{
  "nbformat": 4,
  "nbformat_minor": 0,
  "metadata": {
    "colab": {
      "provenance": [],
      "collapsed_sections": []
    },
    "kernelspec": {
      "name": "python3",
      "display_name": "Python 3"
    },
    "language_info": {
      "name": "python"
    }
  },
  "cells": [
    {
      "cell_type": "code",
      "source": [
        "# QUESTION1\n",
        "\n",
        "arr=[5,7,5,5,5,7,7,5]\n",
        "count_5=0\n",
        "count_7=0\n",
        "for i in arr:\n",
        "  if i==5:\n",
        "    count_5+=1\n",
        "  else:\n",
        "    count_7+=1\n",
        "for i in range(count_5):\n",
        "  arr[i]=5\n",
        "for j in range(-count_7,0):\n",
        "  arr[j]=7\n",
        "print(*arr)"
      ],
      "metadata": {
        "colab": {
          "base_uri": "https://localhost:8080/"
        },
        "id": "DcSC5Ph_GR_Z",
        "outputId": "36301d9f-a17b-4a0b-d6fa-ba3700e73f2e"
      },
      "execution_count": 7,
      "outputs": [
        {
          "output_type": "stream",
          "name": "stdout",
          "text": [
            "5 5 5 5 5 7 7 7\n"
          ]
        }
      ]
    },
    {
      "cell_type": "code",
      "source": [
        "# QUESTION2\n",
        "str_ind=\"\"\n",
        "str_ele=\"\"\n",
        "lst=[1,2,'A',8,'G',3,'X','M',9]\n",
        "print(*lst)\n",
        "for i in range(len(lst)):\n",
        "  if type(lst[i])==int:\n",
        "    str_ind+=str(i)\n",
        "    str_ele+=str(lst[i])\n",
        "str_ele=str_ele[::-1]\n",
        "\n",
        "count_ind=0\n",
        "count_ele=0\n",
        "\n",
        "while True:\n",
        "  if count_ele==len(str_ele):\n",
        "    break\n",
        "  else:\n",
        "    lst[int(str_ind[count_ind])]=int(str_ele[count_ele])\n",
        "    count_ind+=1\n",
        "    count_ele+=1\n",
        "  \n",
        "print(*lst)\n",
        "    \n",
        "  \n",
        "\n"
      ],
      "metadata": {
        "colab": {
          "base_uri": "https://localhost:8080/"
        },
        "id": "heChtbcpJmqq",
        "outputId": "36888e07-26ec-4961-bb30-8c65e74e4a93"
      },
      "execution_count": 28,
      "outputs": [
        {
          "output_type": "stream",
          "name": "stdout",
          "text": [
            "1 2 A 8 G 3 X M 9\n",
            "9 3 A 8 G 2 X M 1\n"
          ]
        }
      ]
    },
    {
      "cell_type": "code",
      "source": [
        "# Question 3\n",
        "words=\"i!am!a!coder\"\n",
        "words=words.split(\"!\")\n",
        "words=words[::-1]\n",
        "words=\"!\".join(words)\n",
        "print(words)"
      ],
      "metadata": {
        "colab": {
          "base_uri": "https://localhost:8080/"
        },
        "id": "WLgwDeBFUeNa",
        "outputId": "73a7bd26-3b11-4185-a6db-23414e45ae76"
      },
      "execution_count": 31,
      "outputs": [
        {
          "output_type": "stream",
          "name": "stdout",
          "text": [
            "coder!a!am!i\n"
          ]
        }
      ]
    },
    {
      "cell_type": "code",
      "source": [
        "# QUESTION 4\n",
        "num=[2,0,3,3,4,4,5]\n",
        "dic={}\n",
        "for i in num:\n",
        "  if i in dic:\n",
        "    dic[i]+=1\n",
        "  else:\n",
        "    dic[i]=1\n",
        "for k,v in dic.items():\n",
        "  print(\"{}\".format(v),end=' ')\n",
        "\n",
        "\n"
      ],
      "metadata": {
        "colab": {
          "base_uri": "https://localhost:8080/"
        },
        "id": "hH9O1Iu7WDx7",
        "outputId": "25aba40c-4d2e-4f34-9db8-e3dc447a6695"
      },
      "execution_count": 35,
      "outputs": [
        {
          "output_type": "stream",
          "name": "stdout",
          "text": [
            "1 1 2 2 1 "
          ]
        }
      ]
    },
    {
      "cell_type": "code",
      "source": [
        "# Question 5\n",
        "ele=[7,6,1,2,4,5]\n",
        "print('length of array is {}'.format(len(ele)))\n",
        "k=int(input('enter value for k= '))\n",
        "ele.sort()\n",
        "print(ele[k-1])"
      ],
      "metadata": {
        "colab": {
          "base_uri": "https://localhost:8080/"
        },
        "id": "FuoXS2eGYQzj",
        "outputId": "9cfeead3-64d6-45f5-eb95-c1eb51730ce7"
      },
      "execution_count": 40,
      "outputs": [
        {
          "output_type": "stream",
          "name": "stdout",
          "text": [
            "length of array is 6\n",
            "enter value for k= 6\n",
            "7\n"
          ]
        }
      ]
    },
    {
      "cell_type": "code",
      "source": [
        "dic={'a1':10,'b2':20,'c3':30}\n",
        "for k,v in dic.items():\n",
        "  dic[k]=v+1\n",
        "print(dic)"
      ],
      "metadata": {
        "colab": {
          "base_uri": "https://localhost:8080/"
        },
        "id": "89Sp_uTSZ2uW",
        "outputId": "5454be14-1ed2-47e5-9f1c-d1bbcde8847e"
      },
      "execution_count": 41,
      "outputs": [
        {
          "output_type": "stream",
          "name": "stdout",
          "text": [
            "{'a1': 11, 'b2': 21, 'c3': 31}\n"
          ]
        }
      ]
    }
  ]
}