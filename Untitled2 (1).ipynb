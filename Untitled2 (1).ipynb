{
 "cells": [
  {
   "cell_type": "code",
   "execution_count": 13,
   "id": "c40cb668",
   "metadata": {},
   "outputs": [
    {
     "name": "stdout",
     "output_type": "stream",
     "text": [
      "this statement is valid inside elif\n"
     ]
    }
   ],
   "source": [
    "a=10\n",
    "b=20\n",
    "\n",
    "if a==10 and b>20:\n",
    "    print(\"this is a valid mstatemnt\")\n",
    "elif a==10 and b<=20:\n",
    "    print(\"this statement is valid inside elif\")\n",
    "else:\n",
    "    print(\"condition is not valid\")"
   ]
  },
  {
   "cell_type": "code",
   "execution_count": 16,
   "id": "e31b2a56",
   "metadata": {},
   "outputs": [
    {
     "name": "stdout",
     "output_type": "stream",
     "text": [
      "this is a valid mstatemnt\n"
     ]
    }
   ],
   "source": [
    "\n",
    "if a==10 and b==20:\n",
    "    print(\"this is a valid mstatemnt\")\n",
    "elif a==10 and b<20:\n",
    "    print(\"this statement is valid inside elif\")\n",
    "else:\n",
    "    print(\"condition is not valid\")"
   ]
  },
  {
   "cell_type": "code",
   "execution_count": null,
   "id": "cc5d1a33",
   "metadata": {},
   "outputs": [],
   "source": []
  },
  {
   "cell_type": "code",
   "execution_count": 10,
   "id": "2ced4edf",
   "metadata": {},
   "outputs": [
    {
     "data": {
      "text/plain": [
       "False"
      ]
     },
     "execution_count": 10,
     "metadata": {},
     "output_type": "execute_result"
    }
   ],
   "source": [
    "b>20"
   ]
  },
  {
   "cell_type": "code",
   "execution_count": 9,
   "id": "78f34822",
   "metadata": {},
   "outputs": [
    {
     "data": {
      "text/plain": [
       "True"
      ]
     },
     "execution_count": 9,
     "metadata": {},
     "output_type": "execute_result"
    }
   ],
   "source": [
    "a==10"
   ]
  },
  {
   "cell_type": "code",
   "execution_count": 14,
   "id": "dc907940",
   "metadata": {},
   "outputs": [
    {
     "name": "stdout",
     "output_type": "stream",
     "text": [
      "this is a valid mstatemnt\n"
     ]
    }
   ],
   "source": [
    "a=10\n",
    "b=20\n",
    "\n",
    "if a==10 or b>20:\n",
    "    print(\"this is a valid mstatemnt\")\n",
    "elif a==10 and b<=20:\n",
    "    print(\"this statement is valid inside elif\")\n",
    "else:\n",
    "    print(\"condition is not valid\")"
   ]
  },
  {
   "cell_type": "code",
   "execution_count": 20,
   "id": "1abe85ba",
   "metadata": {},
   "outputs": [
    {
     "name": "stdout",
     "output_type": "stream",
     "text": [
      "enter namemangesh\n",
      "enter lastnamediyewar\n",
      "correct name\n"
     ]
    }
   ],
   "source": [
    "a= input(\"enter name\")\n",
    "b= input(\"enter lastname\")\n",
    "if a== \"mangesh\" and b==\"diyewar\":\n",
    "    print(\"correct name\")\n",
    "else:\n",
    "    print(\"not correct name\")"
   ]
  },
  {
   "cell_type": "code",
   "execution_count": 21,
   "id": "cb68a29d",
   "metadata": {},
   "outputs": [],
   "source": [
    "#while loop statement"
   ]
  },
  {
   "cell_type": "code",
   "execution_count": 1,
   "id": "b1d1d4f7",
   "metadata": {},
   "outputs": [
    {
     "name": "stdout",
     "output_type": "stream",
     "text": [
      "this is my speed\n",
      "this is my speed\n",
      "this is my speed\n",
      "this is my speed\n",
      "this is my speed\n",
      "this is my speed\n",
      "this is my speed\n",
      "this is my speed\n",
      "this is my speed\n"
     ]
    }
   ],
   "source": [
    "initial_speed=0\n",
    "final_speed=100\n",
    "count=1\n",
    "while initial_speed < final_speed:\n",
    "    print(\"this is my speed\")\n",
    "    count = count+1\n",
    "    if count==10:\n",
    "        break"
   ]
  },
  {
   "cell_type": "code",
   "execution_count": 1,
   "id": "7ea56a76",
   "metadata": {},
   "outputs": [],
   "source": [
    "i=1\n",
    "j=10\n",
    "while i<j:\n",
    "    print(i)\n",
    "    i= i+1"
   ]
  },
  {
   "cell_type": "code",
   "execution_count": 2,
   "id": "f5cd6547",
   "metadata": {},
   "outputs": [
    {
     "name": "stdout",
     "output_type": "stream",
     "text": [
      "1\n",
      "2\n",
      "3\n",
      "4\n",
      "5\n",
      "no 10rs notes are available\n"
     ]
    }
   ],
   "source": [
    "note=5\n",
    "i=1\n",
    "j=1\n",
    "while i<note:\n",
    "    print(i)\n",
    "    i+=1\n",
    "else:\n",
    "    while j<2:\n",
    "        print(i)\n",
    "        j= j+1\n",
    "        \n",
    "        print(\"no 10rs notes are available\")\n",
    "    "
   ]
  },
  {
   "cell_type": "code",
   "execution_count": 3,
   "id": "ce887cea",
   "metadata": {},
   "outputs": [],
   "source": [
    "#list operations\n"
   ]
  },
  {
   "cell_type": "code",
   "execution_count": 4,
   "id": "de91ccb5",
   "metadata": {},
   "outputs": [],
   "source": [
    "s=\"my name is mangesh\""
   ]
  },
  {
   "cell_type": "code",
   "execution_count": 5,
   "id": "32310b5f",
   "metadata": {},
   "outputs": [
    {
     "data": {
      "text/plain": [
       "'my name is mangesh'"
      ]
     },
     "execution_count": 5,
     "metadata": {},
     "output_type": "execute_result"
    }
   ],
   "source": [
    "s"
   ]
  },
  {
   "cell_type": "code",
   "execution_count": 8,
   "id": "7869bfdc",
   "metadata": {},
   "outputs": [
    {
     "data": {
      "text/plain": [
       "'is manges'"
      ]
     },
     "execution_count": 8,
     "metadata": {},
     "output_type": "execute_result"
    }
   ],
   "source": [
    "s[8:17]"
   ]
  },
  {
   "cell_type": "code",
   "execution_count": null,
   "id": "7e72e374",
   "metadata": {},
   "outputs": [],
   "source": [
    "#step"
   ]
  },
  {
   "cell_type": "code",
   "execution_count": 9,
   "id": "4eb0d858",
   "metadata": {},
   "outputs": [
    {
     "data": {
      "text/plain": [
       "'nm smn'"
      ]
     },
     "execution_count": 9,
     "metadata": {},
     "output_type": "execute_result"
    }
   ],
   "source": [
    "s[3:15:2]"
   ]
  },
  {
   "cell_type": "code",
   "execution_count": 13,
   "id": "b899b559",
   "metadata": {},
   "outputs": [
    {
     "data": {
      "text/plain": [
       "'egnam si ema'"
      ]
     },
     "execution_count": 13,
     "metadata": {},
     "output_type": "execute_result"
    }
   ],
   "source": [
    "s[15:3:-1]"
   ]
  },
  {
   "cell_type": "code",
   "execution_count": 14,
   "id": "36a2c311",
   "metadata": {},
   "outputs": [
    {
     "data": {
      "text/plain": [
       "'hsegnam si eman ym'"
      ]
     },
     "execution_count": 14,
     "metadata": {},
     "output_type": "execute_result"
    }
   ],
   "source": [
    "s[::-1]"
   ]
  },
  {
   "cell_type": "code",
   "execution_count": 15,
   "id": "a436e0e9",
   "metadata": {},
   "outputs": [
    {
     "data": {
      "text/plain": [
       "' name is'"
      ]
     },
     "execution_count": 15,
     "metadata": {},
     "output_type": "execute_result"
    }
   ],
   "source": [
    "s[2:-8]"
   ]
  },
  {
   "cell_type": "code",
   "execution_count": 17,
   "id": "d424ad08",
   "metadata": {},
   "outputs": [],
   "source": [
    "s=\"mangesh\""
   ]
  },
  {
   "cell_type": "code",
   "execution_count": 18,
   "id": "facc9e7f",
   "metadata": {},
   "outputs": [
    {
     "data": {
      "text/plain": [
       "'s'"
      ]
     },
     "execution_count": 18,
     "metadata": {},
     "output_type": "execute_result"
    }
   ],
   "source": [
    "s[-2]"
   ]
  },
  {
   "cell_type": "code",
   "execution_count": 19,
   "id": "7e03ea1f",
   "metadata": {},
   "outputs": [
    {
     "data": {
      "text/plain": [
       "'m'"
      ]
     },
     "execution_count": 19,
     "metadata": {},
     "output_type": "execute_result"
    }
   ],
   "source": [
    "s[-7]"
   ]
  },
  {
   "cell_type": "code",
   "execution_count": 20,
   "id": "40c89e59",
   "metadata": {},
   "outputs": [
    {
     "data": {
      "text/plain": [
       "'m'"
      ]
     },
     "execution_count": 20,
     "metadata": {},
     "output_type": "execute_result"
    }
   ],
   "source": [
    "s[0]"
   ]
  },
  {
   "cell_type": "code",
   "execution_count": 21,
   "id": "3b1f3df3",
   "metadata": {},
   "outputs": [],
   "source": [
    "#for loop (iterate wala)"
   ]
  },
  {
   "cell_type": "code",
   "execution_count": 22,
   "id": "f0b5ba70",
   "metadata": {},
   "outputs": [
    {
     "data": {
      "text/plain": [
       "'mangesh'"
      ]
     },
     "execution_count": 22,
     "metadata": {},
     "output_type": "execute_result"
    }
   ],
   "source": [
    "s"
   ]
  },
  {
   "cell_type": "code",
   "execution_count": 23,
   "id": "2d41e011",
   "metadata": {},
   "outputs": [],
   "source": [
    "s=\"my name is mangesh\""
   ]
  },
  {
   "cell_type": "code",
   "execution_count": 24,
   "id": "81cfea66",
   "metadata": {},
   "outputs": [
    {
     "data": {
      "text/plain": [
       "'my name is mangesh'"
      ]
     },
     "execution_count": 24,
     "metadata": {},
     "output_type": "execute_result"
    }
   ],
   "source": [
    "s"
   ]
  },
  {
   "cell_type": "code",
   "execution_count": 27,
   "id": "7c5c23ad",
   "metadata": {},
   "outputs": [
    {
     "name": "stdout",
     "output_type": "stream",
     "text": [
      "m\n",
      "y\n",
      " \n",
      "n\n",
      "a\n",
      "m\n",
      "e\n",
      " \n",
      "i\n",
      "s\n",
      " \n",
      "m\n",
      "a\n",
      "n\n",
      "g\n",
      "e\n",
      "s\n",
      "h\n"
     ]
    }
   ],
   "source": [
    "for j in s:\n",
    "    print(j)"
   ]
  },
  {
   "cell_type": "code",
   "execution_count": 28,
   "id": "ede0f37f",
   "metadata": {},
   "outputs": [
    {
     "name": "stdout",
     "output_type": "stream",
     "text": [
      "m\n",
      "y\n",
      " \n",
      "n\n",
      "a\n",
      "m\n",
      "e\n",
      " \n",
      "i\n",
      "i got it\n",
      "s\n",
      " \n",
      "m\n",
      "a\n",
      "n\n",
      "g\n",
      "e\n",
      "i got it\n",
      "s\n",
      "h\n"
     ]
    }
   ],
   "source": [
    "for j in s:\n",
    "    if j== 's':\n",
    "        print(\"i got it\")\n",
    "    print(j)"
   ]
  },
  {
   "cell_type": "code",
   "execution_count": 29,
   "id": "ae0f5e8d",
   "metadata": {},
   "outputs": [
    {
     "data": {
      "text/plain": [
       "'my name is mangesh'"
      ]
     },
     "execution_count": 29,
     "metadata": {},
     "output_type": "execute_result"
    }
   ],
   "source": [
    "s"
   ]
  },
  {
   "cell_type": "code",
   "execution_count": 38,
   "id": "947136e8",
   "metadata": {},
   "outputs": [
    {
     "name": "stdout",
     "output_type": "stream",
     "text": [
      "m\n",
      "y\n",
      " \n",
      "n\n",
      "a\n",
      "m\n",
      "e\n",
      " \n",
      "i\n",
      "s\n",
      " \n",
      "m\n",
      "a\n",
      "n\n",
      "g\n",
      "e\n",
      "s\n",
      "h\n",
      "this is else condition\n"
     ]
    }
   ],
   "source": [
    "for i in s :\n",
    "        print(i)\n",
    "else:\n",
    "    print(\"this is else condition\")"
   ]
  },
  {
   "cell_type": "code",
   "execution_count": 31,
   "id": "7954c9e1",
   "metadata": {},
   "outputs": [
    {
     "data": {
      "text/plain": [
       "'my name is mangesh'"
      ]
     },
     "execution_count": 31,
     "metadata": {},
     "output_type": "execute_result"
    }
   ],
   "source": [
    "s"
   ]
  },
  {
   "cell_type": "code",
   "execution_count": 42,
   "id": "034afc7b",
   "metadata": {},
   "outputs": [
    {
     "name": "stdout",
     "output_type": "stream",
     "text": [
      "m\n",
      "y\n",
      " \n",
      "n\n",
      "a\n",
      "m\n",
      "e\n",
      " \n",
      "i\n",
      "s\n",
      " \n",
      "m\n",
      "a\n",
      "n\n",
      "g\n",
      "e\n",
      "s\n",
      "h\n",
      "this is lastr char\n"
     ]
    }
   ],
   "source": [
    "for i in s :\n",
    "        print(i)\n",
    "else:\n",
    "    if i== 'h':\n",
    "        print(\"this is lastr char\")\n",
    "   "
   ]
  },
  {
   "cell_type": "code",
   "execution_count": 56,
   "id": "f32d48dc",
   "metadata": {},
   "outputs": [
    {
     "name": "stdout",
     "output_type": "stream",
     "text": [
      "m\n",
      "y\n",
      " \n",
      "n\n",
      "a\n",
      "m\n",
      "e\n",
      " \n",
      "i\n",
      "s\n",
      " \n",
      "m\n",
      "a\n",
      "n\n"
     ]
    }
   ],
   "source": [
    "for i in s :\n",
    "    if i=='g' :\n",
    "        break\n",
    "    print(i)\n",
    "else:\n",
    "    if i== 'h':\n",
    "        print(\"this is lastr char\")\n",
    "   "
   ]
  },
  {
   "cell_type": "code",
   "execution_count": 53,
   "id": "f569a925",
   "metadata": {},
   "outputs": [
    {
     "data": {
      "text/plain": [
       "'my name is mangesh'"
      ]
     },
     "execution_count": 53,
     "metadata": {},
     "output_type": "execute_result"
    }
   ],
   "source": [
    "s"
   ]
  },
  {
   "cell_type": "code",
   "execution_count": 57,
   "id": "d8954cd6",
   "metadata": {},
   "outputs": [
    {
     "name": "stdout",
     "output_type": "stream",
     "text": [
      "m\n",
      "y\n",
      " \n",
      "n\n",
      "a\n",
      "m\n",
      "e\n",
      " \n",
      "i\n",
      "s\n",
      " \n",
      "m\n",
      "a\n",
      "n\n",
      "g\n",
      "e\n",
      "s\n",
      "h\n",
      "this is lastr char\n"
     ]
    }
   ],
   "source": [
    "for i in s :\n",
    "    if i=='p' :\n",
    "        break\n",
    "    print(i)\n",
    "else:\n",
    "    if i== 'h':\n",
    "        print(\"this is lastr char\")"
   ]
  },
  {
   "cell_type": "code",
   "execution_count": 59,
   "id": "f4d6a3cf",
   "metadata": {},
   "outputs": [],
   "source": [
    "#continue statement"
   ]
  },
  {
   "cell_type": "code",
   "execution_count": 60,
   "id": "0dbaf5d4",
   "metadata": {},
   "outputs": [
    {
     "name": "stdout",
     "output_type": "stream",
     "text": [
      "m\n",
      "y\n",
      " \n",
      "n\n",
      "a\n",
      "m\n",
      "e\n",
      " \n",
      "i\n",
      "s\n",
      " \n",
      "m\n",
      "a\n",
      "n\n",
      "e\n",
      "s\n",
      "h\n",
      "this is lastr char\n"
     ]
    }
   ],
   "source": [
    "for i in s :\n",
    "    if i=='g' :\n",
    "      continue\n",
    "    print(i)\n",
    "else:\n",
    "    if i== 'h':\n",
    "        print(\"this is lastr char\")"
   ]
  },
  {
   "cell_type": "code",
   "execution_count": 2,
   "id": "b34ca5b6",
   "metadata": {},
   "outputs": [
    {
     "name": "stdout",
     "output_type": "stream",
     "text": [
      "m\n",
      "ma\n",
      "mag\n",
      "mage\n",
      "mages\n",
      "magesh\n"
     ]
    }
   ],
   "source": [
    "s=\"mangesh\"\n",
    "ss=\"\"\n",
    "for i in range(len(s)):\n",
    "    if s[i]==\"n\":\n",
    "        continue\n",
    "    else:\n",
    "        ss=ss+s[i]\n",
    "    print(ss)"
   ]
  },
  {
   "cell_type": "code",
   "execution_count": 3,
   "id": "cda8beb4",
   "metadata": {},
   "outputs": [
    {
     "data": {
      "text/plain": [
       "'magesh'"
      ]
     },
     "execution_count": 3,
     "metadata": {},
     "output_type": "execute_result"
    }
   ],
   "source": [
    "ss"
   ]
  },
  {
   "cell_type": "code",
   "execution_count": 8,
   "id": "6045d419",
   "metadata": {},
   "outputs": [
    {
     "name": "stdout",
     "output_type": "stream",
     "text": [
      "+\r\n",
      "++\r\n",
      "+++\r\n",
      "++++\r\n",
      "+++++\r\n",
      "++++++\r\n",
      "+++++++\r\n",
      "++++++++\r\n"
     ]
    }
   ],
   "source": [
    "n=8\n",
    "for i in range(0,n):\n",
    "    for j in range(0,i+1):\n",
    "        print(\"+\" , end = \"\" )\n",
    "    print(\"\\r\")"
   ]
  },
  {
   "cell_type": "code",
   "execution_count": 31,
   "id": "643c60d6",
   "metadata": {},
   "outputs": [
    {
     "name": "stdout",
     "output_type": "stream",
     "text": [
      "+ \r\n",
      "+ + \r\n",
      "+ + + \r\n",
      "+ + + + \r\n",
      "+ + + + + \r\n",
      "+ + + + + + \r\n",
      "+ + + + + + + \r\n"
     ]
    }
   ],
   "source": [
    "n=7\n",
    "for i in range(0,n):\n",
    "    for j in range(0,i+1):\n",
    "        print(\"+\" , end = \" \" )\n",
    "    print(\"\\r\")"
   ]
  },
  {
   "cell_type": "code",
   "execution_count": 14,
   "id": "a54cb7be",
   "metadata": {},
   "outputs": [
    {
     "name": "stdout",
     "output_type": "stream",
     "text": [
      "+++++++\r\n",
      "++++++\r\n",
      "+++++\r\n",
      "++++\r\n",
      "+++\r\n",
      "++\r\n",
      "+\r\n"
     ]
    }
   ],
   "source": [
    "n=7\n",
    "for i in range(0,n) :\n",
    "    for j in range (0,7-i):\n",
    "        print(\"+\", end=\"\")\n",
    "    print(\"\\r\")"
   ]
  },
  {
   "cell_type": "code",
   "execution_count": 15,
   "id": "67b001fd",
   "metadata": {},
   "outputs": [
    {
     "name": "stdout",
     "output_type": "stream",
     "text": [
      "enter number of rows required  7\n",
      "             *   *   *   *   *   *   *   *   *   *   *   *   *  \n",
      "             *   *   *   *   *   *   *   *   *   *   *  \n",
      "             *   *   *   *   *   *   *   *   *  \n",
      "             *   *   *   *   *   *   *  \n",
      "             *   *   *   *   *  \n",
      "             *   *   *  \n",
      "             *  \n"
     ]
    }
   ],
   "source": [
    "n= int(input(\"enter number of rows required  \"))\n",
    "\n",
    "for i in range(n,0,-1) :\n",
    "    for j in range(n-1):\n",
    "        print(' ' , end= ' ')\n",
    "        \n",
    "    for j in range(2*i-1):\n",
    "        print(' * ', end= ' ')\n",
    "       \n",
    "    print('')"
   ]
  },
  {
   "cell_type": "code",
   "execution_count": 20,
   "id": "ef464f57",
   "metadata": {},
   "outputs": [
    {
     "name": "stdout",
     "output_type": "stream",
     "text": [
      "        *\n",
      "       **\n",
      "      ***\n",
      "     ****\n",
      "    *****\n",
      "   ******\n",
      "  *******\n",
      " ********\n",
      "*********\n"
     ]
    }
   ],
   "source": [
    "n=9\n",
    "i=0\n",
    "while i<n :\n",
    "    print(' '*(n-i-1) + '*'*(i+1))\n",
    "    i+=1\n",
    "            \n",
    "            "
   ]
  },
  {
   "cell_type": "code",
   "execution_count": 21,
   "id": "1ecf2afd",
   "metadata": {},
   "outputs": [],
   "source": [
    "# list\n"
   ]
  },
  {
   "cell_type": "code",
   "execution_count": 23,
   "id": "4c44c926",
   "metadata": {},
   "outputs": [],
   "source": [
    "l = list()"
   ]
  },
  {
   "cell_type": "code",
   "execution_count": 24,
   "id": "e6cd110e",
   "metadata": {},
   "outputs": [],
   "source": [
    "name=\"mangesh\"\n",
    "phno=\"5698899\"\n",
    "adrss=\" b3bdbn \"\n"
   ]
  },
  {
   "cell_type": "markdown",
   "id": "e52d9864",
   "metadata": {},
   "source": [
    "l=[\"mangesh\" , 3554, \"ddddd\"]"
   ]
  },
  {
   "cell_type": "code",
   "execution_count": 26,
   "id": "a539f024",
   "metadata": {},
   "outputs": [
    {
     "data": {
      "text/plain": [
       "list"
      ]
     },
     "execution_count": 26,
     "metadata": {},
     "output_type": "execute_result"
    }
   ],
   "source": [
    "l= ['mangesh']\n",
    "type(l)"
   ]
  },
  {
   "cell_type": "code",
   "execution_count": null,
   "id": "d30909a6",
   "metadata": {},
   "outputs": [],
   "source": []
  }
 ],
 "metadata": {
  "kernelspec": {
   "display_name": "Python 3 (ipykernel)",
   "language": "python",
   "name": "python3"
  },
  "language_info": {
   "codemirror_mode": {
    "name": "ipython",
    "version": 3
   },
   "file_extension": ".py",
   "mimetype": "text/x-python",
   "name": "python",
   "nbconvert_exporter": "python",
   "pygments_lexer": "ipython3",
   "version": "3.9.7"
  }
 },
 "nbformat": 4,
 "nbformat_minor": 5
}
