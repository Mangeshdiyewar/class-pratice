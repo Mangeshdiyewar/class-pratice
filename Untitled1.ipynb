{
 "cells": [
  {
   "cell_type": "code",
   "execution_count": 2,
   "id": "732430e1",
   "metadata": {},
   "outputs": [
    {
     "name": "stdout",
     "output_type": "stream",
     "text": [
      "this is my first python program\n"
     ]
    }
   ],
   "source": [
    "print(\"this is my first python program\")"
   ]
  },
  {
   "cell_type": "markdown",
   "id": "24a3cea5",
   "metadata": {},
   "source": [
    "my name is mangesh"
   ]
  },
  {
   "cell_type": "code",
   "execution_count": 4,
   "id": "de94be44",
   "metadata": {},
   "outputs": [
    {
     "data": {
      "text/plain": [
       "'fgj\\nhkh\\ng\\ngk'"
      ]
     },
     "execution_count": 4,
     "metadata": {},
     "output_type": "execute_result"
    }
   ],
   "source": [
    "#my name is mangesh\n",
    "'''fgj\n",
    "hkh\n",
    "g\n",
    "gk'''"
   ]
  },
  {
   "cell_type": "code",
   "execution_count": 6,
   "id": "65ce4928",
   "metadata": {},
   "outputs": [
    {
     "data": {
      "text/plain": [
       "'print(\"3rr3r\")\\nprint(\"weuwhqyru\")'"
      ]
     },
     "execution_count": 6,
     "metadata": {},
     "output_type": "execute_result"
    }
   ],
   "source": [
    "\"\"\"print(\"3rr3r\")\n",
    "print(\"weuwhqyru\")\"\"\""
   ]
  },
  {
   "cell_type": "code",
   "execution_count": 12,
   "id": "73f89ff0",
   "metadata": {},
   "outputs": [],
   "source": [
    "a=10"
   ]
  },
  {
   "cell_type": "code",
   "execution_count": 8,
   "id": "e7cb9bf9",
   "metadata": {},
   "outputs": [
    {
     "data": {
      "text/plain": [
       "10"
      ]
     },
     "execution_count": 8,
     "metadata": {},
     "output_type": "execute_result"
    }
   ],
   "source": [
    "a"
   ]
  },
  {
   "cell_type": "code",
   "execution_count": 10,
   "id": "d17dd658",
   "metadata": {},
   "outputs": [
    {
     "data": {
      "text/plain": [
       "int"
      ]
     },
     "execution_count": 10,
     "metadata": {},
     "output_type": "execute_result"
    }
   ],
   "source": [
    "type(a)"
   ]
  },
  {
   "cell_type": "code",
   "execution_count": 17,
   "id": "20e5aea7",
   "metadata": {},
   "outputs": [],
   "source": [
    "b=\"mangeshsdfbgdgdgf\""
   ]
  },
  {
   "cell_type": "code",
   "execution_count": 18,
   "id": "aec9fbe2",
   "metadata": {},
   "outputs": [
    {
     "data": {
      "text/plain": [
       "'mangeshsdfbgdgdgf'"
      ]
     },
     "execution_count": 18,
     "metadata": {},
     "output_type": "execute_result"
    }
   ],
   "source": [
    "b"
   ]
  },
  {
   "cell_type": "code",
   "execution_count": 19,
   "id": "6d4ccd81",
   "metadata": {},
   "outputs": [
    {
     "data": {
      "text/plain": [
       "str"
      ]
     },
     "execution_count": 19,
     "metadata": {},
     "output_type": "execute_result"
    }
   ],
   "source": [
    "type(b)"
   ]
  },
  {
   "cell_type": "code",
   "execution_count": 22,
   "id": "f22d5eb8",
   "metadata": {},
   "outputs": [
    {
     "name": "stdout",
     "output_type": "stream",
     "text": [
      "mangeshsdfbgdgdgf 10 ewdssax\n"
     ]
    }
   ],
   "source": [
    "print(b,a,'ewdssax')"
   ]
  },
  {
   "cell_type": "code",
   "execution_count": 23,
   "id": "39996325",
   "metadata": {},
   "outputs": [],
   "source": [
    "a=45\n",
    "b='mang'"
   ]
  },
  {
   "cell_type": "code",
   "execution_count": 24,
   "id": "3571dc64",
   "metadata": {},
   "outputs": [],
   "source": [
    "a,b,s=45,'mang', \"this is my name\""
   ]
  },
  {
   "cell_type": "code",
   "execution_count": 25,
   "id": "0792b517",
   "metadata": {},
   "outputs": [
    {
     "data": {
      "text/plain": [
       "45"
      ]
     },
     "execution_count": 25,
     "metadata": {},
     "output_type": "execute_result"
    }
   ],
   "source": [
    "a"
   ]
  },
  {
   "cell_type": "code",
   "execution_count": 26,
   "id": "f4cd0eee",
   "metadata": {},
   "outputs": [
    {
     "data": {
      "text/plain": [
       "'mang'"
      ]
     },
     "execution_count": 26,
     "metadata": {},
     "output_type": "execute_result"
    }
   ],
   "source": [
    "b"
   ]
  },
  {
   "cell_type": "code",
   "execution_count": 27,
   "id": "c965142e",
   "metadata": {},
   "outputs": [
    {
     "data": {
      "text/plain": [
       "'this is my name'"
      ]
     },
     "execution_count": 27,
     "metadata": {},
     "output_type": "execute_result"
    }
   ],
   "source": [
    "s"
   ]
  },
  {
   "cell_type": "code",
   "execution_count": 28,
   "id": "fd5c4a9e",
   "metadata": {},
   "outputs": [
    {
     "data": {
      "text/plain": [
       "int"
      ]
     },
     "execution_count": 28,
     "metadata": {},
     "output_type": "execute_result"
    }
   ],
   "source": [
    "type(a)"
   ]
  },
  {
   "cell_type": "code",
   "execution_count": 29,
   "id": "4318e76c",
   "metadata": {},
   "outputs": [
    {
     "data": {
      "text/plain": [
       "str"
      ]
     },
     "execution_count": 29,
     "metadata": {},
     "output_type": "execute_result"
    }
   ],
   "source": [
    "type(b)"
   ]
  },
  {
   "cell_type": "code",
   "execution_count": 30,
   "id": "c090faf0",
   "metadata": {},
   "outputs": [
    {
     "data": {
      "text/plain": [
       "str"
      ]
     },
     "execution_count": 30,
     "metadata": {},
     "output_type": "execute_result"
    }
   ],
   "source": [
    "type(s)"
   ]
  },
  {
   "cell_type": "code",
   "execution_count": 33,
   "id": "8ef666b4",
   "metadata": {},
   "outputs": [
    {
     "name": "stdout",
     "output_type": "stream",
     "text": [
      "45 mang this is my name\n"
     ]
    }
   ],
   "source": [
    "print(a,b,s)"
   ]
  },
  {
   "cell_type": "code",
   "execution_count": 35,
   "id": "0c9c972a",
   "metadata": {},
   "outputs": [],
   "source": [
    "b='lov'"
   ]
  },
  {
   "cell_type": "code",
   "execution_count": 36,
   "id": "ca922fd1",
   "metadata": {},
   "outputs": [
    {
     "data": {
      "text/plain": [
       "'lov'"
      ]
     },
     "execution_count": 36,
     "metadata": {},
     "output_type": "execute_result"
    }
   ],
   "source": [
    "b"
   ]
  },
  {
   "cell_type": "code",
   "execution_count": 37,
   "id": "b75afc43",
   "metadata": {},
   "outputs": [],
   "source": [
    "name=\"mangesh\"\n",
    "userid=\"IN001\"\n",
    "password=\"sdfsd\"\n",
    "mail=\"mangeshmjd@gmail.com\""
   ]
  },
  {
   "cell_type": "code",
   "execution_count": 38,
   "id": "f49e5272",
   "metadata": {},
   "outputs": [
    {
     "data": {
      "text/plain": [
       "'mangesh'"
      ]
     },
     "execution_count": 38,
     "metadata": {},
     "output_type": "execute_result"
    }
   ],
   "source": [
    "name"
   ]
  },
  {
   "cell_type": "code",
   "execution_count": 39,
   "id": "01a2eb78",
   "metadata": {},
   "outputs": [],
   "source": [
    "a=2.6"
   ]
  },
  {
   "cell_type": "code",
   "execution_count": 41,
   "id": "22835732",
   "metadata": {},
   "outputs": [
    {
     "data": {
      "text/plain": [
       "float"
      ]
     },
     "execution_count": 41,
     "metadata": {},
     "output_type": "execute_result"
    }
   ],
   "source": [
    "type(a)"
   ]
  },
  {
   "cell_type": "code",
   "execution_count": 43,
   "id": "badc1c80",
   "metadata": {},
   "outputs": [],
   "source": [
    "b=True\n",
    "c=False"
   ]
  },
  {
   "cell_type": "code",
   "execution_count": 44,
   "id": "17566507",
   "metadata": {},
   "outputs": [
    {
     "data": {
      "text/plain": [
       "bool"
      ]
     },
     "execution_count": 44,
     "metadata": {},
     "output_type": "execute_result"
    }
   ],
   "source": [
    "type(b)\n",
    "type(c)"
   ]
  },
  {
   "cell_type": "code",
   "execution_count": 50,
   "id": "98fbc2ea",
   "metadata": {},
   "outputs": [
    {
     "data": {
      "text/plain": [
       "4"
      ]
     },
     "execution_count": 50,
     "metadata": {},
     "output_type": "execute_result"
    }
   ],
   "source": [
    "True+True+True+False+True\n"
   ]
  },
  {
   "cell_type": "code",
   "execution_count": 48,
   "id": "8def8739",
   "metadata": {},
   "outputs": [
    {
     "ename": "ZeroDivisionError",
     "evalue": "division by zero",
     "output_type": "error",
     "traceback": [
      "\u001b[1;31m---------------------------------------------------------------------------\u001b[0m",
      "\u001b[1;31mZeroDivisionError\u001b[0m                         Traceback (most recent call last)",
      "\u001b[1;32m~\\AppData\\Local\\Temp/ipykernel_10872/3293856897.py\u001b[0m in \u001b[0;36m<module>\u001b[1;34m\u001b[0m\n\u001b[1;32m----> 1\u001b[1;33m \u001b[0mprint\u001b[0m\u001b[1;33m(\u001b[0m\u001b[1;32mTrue\u001b[0m\u001b[1;33m/\u001b[0m\u001b[1;32mFalse\u001b[0m\u001b[1;33m)\u001b[0m\u001b[1;33m\u001b[0m\u001b[1;33m\u001b[0m\u001b[0m\n\u001b[0m",
      "\u001b[1;31mZeroDivisionError\u001b[0m: division by zero"
     ]
    }
   ],
   "source": [
    "print(True/False)"
   ]
  },
  {
   "cell_type": "code",
   "execution_count": 53,
   "id": "2ac0435c",
   "metadata": {},
   "outputs": [],
   "source": [
    "n= 45+6j"
   ]
  },
  {
   "cell_type": "code",
   "execution_count": 54,
   "id": "0e349047",
   "metadata": {},
   "outputs": [
    {
     "data": {
      "text/plain": [
       "complex"
      ]
     },
     "execution_count": 54,
     "metadata": {},
     "output_type": "execute_result"
    }
   ],
   "source": [
    "type(n)"
   ]
  },
  {
   "cell_type": "code",
   "execution_count": 55,
   "id": "b4f5917f",
   "metadata": {},
   "outputs": [
    {
     "data": {
      "text/plain": [
       "(45+6j)"
      ]
     },
     "execution_count": 55,
     "metadata": {},
     "output_type": "execute_result"
    }
   ],
   "source": [
    "n"
   ]
  },
  {
   "cell_type": "code",
   "execution_count": 56,
   "id": "4f7ebead",
   "metadata": {},
   "outputs": [
    {
     "data": {
      "text/plain": [
       "45.0"
      ]
     },
     "execution_count": 56,
     "metadata": {},
     "output_type": "execute_result"
    }
   ],
   "source": [
    "n.real"
   ]
  },
  {
   "cell_type": "code",
   "execution_count": null,
   "id": "19757f56",
   "metadata": {},
   "outputs": [],
   "source": []
  },
  {
   "cell_type": "code",
   "execution_count": 57,
   "id": "189d1c94",
   "metadata": {},
   "outputs": [
    {
     "data": {
      "text/plain": [
       "6.0"
      ]
     },
     "execution_count": 57,
     "metadata": {},
     "output_type": "execute_result"
    }
   ],
   "source": [
    "n.imag"
   ]
  },
  {
   "cell_type": "code",
   "execution_count": 58,
   "id": "68b944c1",
   "metadata": {},
   "outputs": [
    {
     "data": {
      "text/plain": [
       "2520"
      ]
     },
     "execution_count": 58,
     "metadata": {},
     "output_type": "execute_result"
    }
   ],
   "source": [
    "45*56"
   ]
  },
  {
   "cell_type": "code",
   "execution_count": 62,
   "id": "9ceb63a5",
   "metadata": {},
   "outputs": [
    {
     "data": {
      "text/plain": [
       "'1mangesh'"
      ]
     },
     "execution_count": 62,
     "metadata": {},
     "output_type": "execute_result"
    }
   ],
   "source": [
    "'1'+\"mangesh\""
   ]
  },
  {
   "cell_type": "code",
   "execution_count": 65,
   "id": "ee3b97c7",
   "metadata": {},
   "outputs": [
    {
     "data": {
      "text/plain": [
       "(1.7667441275291957-0.12696674116724146j)"
      ]
     },
     "execution_count": 65,
     "metadata": {},
     "output_type": "execute_result"
    }
   ],
   "source": [
    "n=256+45j\n",
    "m=458+47j\n",
    "m/n"
   ]
  },
  {
   "cell_type": "code",
   "execution_count": 66,
   "id": "4c048023",
   "metadata": {},
   "outputs": [
    {
     "data": {
      "text/plain": [
       "6.298500000000001"
      ]
     },
     "execution_count": 66,
     "metadata": {},
     "output_type": "execute_result"
    }
   ],
   "source": [
    "3+3.2985"
   ]
  },
  {
   "cell_type": "code",
   "execution_count": 69,
   "id": "2590b9ae",
   "metadata": {},
   "outputs": [
    {
     "name": "stdout",
     "output_type": "stream",
     "text": [
      "sudh\n"
     ]
    }
   ],
   "source": [
    "print(\"sudh\")"
   ]
  },
  {
   "cell_type": "code",
   "execution_count": 70,
   "id": "ba672aaf",
   "metadata": {},
   "outputs": [
    {
     "data": {
      "text/plain": [
       "'sydh'"
      ]
     },
     "execution_count": 70,
     "metadata": {},
     "output_type": "execute_result"
    }
   ],
   "source": [
    "\"sydh\""
   ]
  },
  {
   "cell_type": "code",
   "execution_count": 71,
   "id": "210ff4b2",
   "metadata": {},
   "outputs": [
    {
     "data": {
      "text/plain": [
       "'mangmangmangmangmangmangmangmangmangmangmangmangmangmangmangmangmangmangmangmangmangmangmangmangmang'"
      ]
     },
     "execution_count": 71,
     "metadata": {},
     "output_type": "execute_result"
    }
   ],
   "source": [
    "\"mang\"*25"
   ]
  },
  {
   "cell_type": "code",
   "execution_count": 73,
   "id": "bac4f3c3",
   "metadata": {},
   "outputs": [
    {
     "ename": "ValueError",
     "evalue": "invalid literal for int() with base 10: 'mang'",
     "output_type": "error",
     "traceback": [
      "\u001b[1;31m---------------------------------------------------------------------------\u001b[0m",
      "\u001b[1;31mValueError\u001b[0m                                Traceback (most recent call last)",
      "\u001b[1;32m~\\AppData\\Local\\Temp/ipykernel_10872/1140754922.py\u001b[0m in \u001b[0;36m<module>\u001b[1;34m\u001b[0m\n\u001b[1;32m----> 1\u001b[1;33m \u001b[0mint\u001b[0m\u001b[1;33m(\u001b[0m\u001b[1;34m\"mang\"\u001b[0m\u001b[1;33m)\u001b[0m\u001b[1;33m*\u001b[0m\u001b[1;34m\"mang\"\u001b[0m\u001b[1;33m\u001b[0m\u001b[1;33m\u001b[0m\u001b[0m\n\u001b[0m",
      "\u001b[1;31mValueError\u001b[0m: invalid literal for int() with base 10: 'mang'"
     ]
    }
   ],
   "source": [
    "int(\"mang\")*\"mang\""
   ]
  },
  {
   "cell_type": "code",
   "execution_count": 74,
   "id": "b58be009",
   "metadata": {},
   "outputs": [],
   "source": [
    "a=10"
   ]
  },
  {
   "cell_type": "code",
   "execution_count": 75,
   "id": "110cf4f5",
   "metadata": {},
   "outputs": [
    {
     "name": "stdout",
     "output_type": "stream",
     "text": [
      "enter a integerffbfgfgfgf\n"
     ]
    }
   ],
   "source": [
    "a= input(\"enter a integer\")"
   ]
  },
  {
   "cell_type": "code",
   "execution_count": 76,
   "id": "275876a8",
   "metadata": {},
   "outputs": [
    {
     "data": {
      "text/plain": [
       "str"
      ]
     },
     "execution_count": 76,
     "metadata": {},
     "output_type": "execute_result"
    }
   ],
   "source": [
    "type(a)"
   ]
  },
  {
   "cell_type": "code",
   "execution_count": 90,
   "id": "758f9721",
   "metadata": {},
   "outputs": [
    {
     "name": "stdout",
     "output_type": "stream",
     "text": [
      "enter a integer45\n",
      "enter ainteger12\n",
      "enter a integer25\n"
     ]
    },
    {
     "data": {
      "text/plain": [
       "'(130.48+45j)mangesh'"
      ]
     },
     "execution_count": 90,
     "metadata": {},
     "output_type": "execute_result"
    }
   ],
   "source": [
    "a= int(input(\"enter a integer\"))\n",
    "b= int(input(\"enter ainteger\"))\n",
    "c= int(input(\"enter a integer\"))\n",
    "o=a+b/c\n",
    "o1=o+85+45j\n",
    "str(o1)+\"mangesh\""
   ]
  },
  {
   "cell_type": "code",
   "execution_count": 91,
   "id": "01435bf5",
   "metadata": {},
   "outputs": [],
   "source": [
    "o=a+b/c"
   ]
  },
  {
   "cell_type": "code",
   "execution_count": 92,
   "id": "0fb38477",
   "metadata": {},
   "outputs": [
    {
     "data": {
      "text/plain": [
       "45.48"
      ]
     },
     "execution_count": 92,
     "metadata": {},
     "output_type": "execute_result"
    }
   ],
   "source": [
    "o"
   ]
  },
  {
   "cell_type": "code",
   "execution_count": 93,
   "id": "3bf00665",
   "metadata": {},
   "outputs": [],
   "source": [
    "o1=o+75+68j"
   ]
  },
  {
   "cell_type": "code",
   "execution_count": 94,
   "id": "cd6f1631",
   "metadata": {},
   "outputs": [
    {
     "data": {
      "text/plain": [
       "(120.47999999999999+68j)"
      ]
     },
     "execution_count": 94,
     "metadata": {},
     "output_type": "execute_result"
    }
   ],
   "source": [
    "o1"
   ]
  },
  {
   "cell_type": "code",
   "execution_count": 95,
   "id": "f328e4be",
   "metadata": {},
   "outputs": [
    {
     "data": {
      "text/plain": [
       "'(120.47999999999999+68j)mang'"
      ]
     },
     "execution_count": 95,
     "metadata": {},
     "output_type": "execute_result"
    }
   ],
   "source": [
    "str(o1)+\"mang\""
   ]
  },
  {
   "cell_type": "code",
   "execution_count": 101,
   "id": "0fafb13d",
   "metadata": {},
   "outputs": [
    {
     "name": "stdout",
     "output_type": "stream",
     "text": [
      "input a number less thanc34----10\n"
     ]
    }
   ],
   "source": [
    "a=int(input(\"input a number less thanc34----\"))"
   ]
  },
  {
   "cell_type": "code",
   "execution_count": 102,
   "id": "51e05b54",
   "metadata": {},
   "outputs": [],
   "source": [
    "if a<34:\n",
    "   pass"
   ]
  },
  {
   "cell_type": "code",
   "execution_count": 116,
   "id": "107f5f80",
   "metadata": {},
   "outputs": [
    {
     "name": "stdout",
     "output_type": "stream",
     "text": [
      "input a number less than 34---7\n",
      "mkx\n"
     ]
    }
   ],
   "source": [
    "a=int(input(\"input a number less than 34---\"))\n",
    "if a<34:\n",
    "    print(\"mkx\")\n",
    "else:\n",
    "    print (\"mkc\")"
   ]
  },
  {
   "cell_type": "code",
   "execution_count": 119,
   "id": "c59b8f85",
   "metadata": {},
   "outputs": [
    {
     "name": "stdout",
     "output_type": "stream",
     "text": [
      "input a number less than 34---12\n",
      "mkx\n"
     ]
    }
   ],
   "source": [
    "a=int(input(\"input a number less than 34---\"))\n",
    "if a<34:\n",
    "    print(\"mkx\")\n",
    "elif a<100:\n",
    "    print(\"bhosda\")\n",
    "else:\n",
    "    print (\"mkc\")"
   ]
  },
  {
   "cell_type": "code",
   "execution_count": 126,
   "id": "3fa17cf0",
   "metadata": {},
   "outputs": [
    {
     "name": "stdout",
     "output_type": "stream",
     "text": [
      "enterr your salary400\n",
      "i will buy a car\n"
     ]
    }
   ],
   "source": [
    "salary=int(input(\"enterr your salary\"))\n",
    "if salary<1000:\n",
    "    print(\"i will buy a car\")\n",
    "elif salary< 500:\n",
    "    print(\"i will buy a bike\")\n",
    "elif salary< 100:\n",
    "    print(\"i will not bujy anything\")\n",
    "else:\n",
    "    print(\"i will go for savings\")"
   ]
  },
  {
   "cell_type": "code",
   "execution_count": 127,
   "id": "e58e6c15",
   "metadata": {},
   "outputs": [],
   "source": [
    "#there is difference betwqeen this codes look closely"
   ]
  },
  {
   "cell_type": "code",
   "execution_count": 128,
   "id": "2427914d",
   "metadata": {},
   "outputs": [
    {
     "name": "stdout",
     "output_type": "stream",
     "text": [
      "enterr your salary2500\n",
      "i will buy a car\n"
     ]
    }
   ],
   "source": [
    "salary=int(input(\"enterr your salary\"))\n",
    "if salary>1000:\n",
    "    print(\"i will buy a car\")\n",
    "elif salary> 500:\n",
    "    print(\"i will buy a bike\")\n",
    "elif salary> 100:\n",
    "    print(\"i will not bujy anything\")\n",
    "else:\n",
    "    print(\"i will go for savings\")"
   ]
  },
  {
   "cell_type": "code",
   "execution_count": 129,
   "id": "2e27a38d",
   "metadata": {},
   "outputs": [],
   "source": [
    "#nested condition"
   ]
  },
  {
   "cell_type": "code",
   "execution_count": 134,
   "id": "d76650c7",
   "metadata": {},
   "outputs": [
    {
     "name": "stdout",
     "output_type": "stream",
     "text": [
      "enterr your salary60000\n",
      "your salary is good\n",
      "i will go with nano car\n",
      "false code\n"
     ]
    }
   ],
   "source": [
    "salary=int(input(\"enterr your salary\"))\n",
    "if salary>1000:\n",
    "    print(\"your salary is good\")\n",
    "    if salary > 5000:\n",
    "        print(\"i will go with nano car\")\n",
    "        if True:\n",
    "            print(\"false code\")\n",
    "    elif salary > 10000:\n",
    "            print(\"i will go for maruti\")\n",
    "    elif salary >50000:\n",
    "                print(\"i will buy tyota\")\n",
    "    else:\n",
    "        print(\"i will rent a car\")\n",
    "elif salary> 500:\n",
    "    print(\"i will buy a bike\")\n",
    "elif salary> 100:\n",
    "    print(\"i will not bujy anything\")\n",
    "else:\n",
    "    print(\"i will go for savings\")"
   ]
  },
  {
   "cell_type": "code",
   "execution_count": null,
   "id": "bf6a385c",
   "metadata": {},
   "outputs": [],
   "source": []
  }
 ],
 "metadata": {
  "kernelspec": {
   "display_name": "Python 3 (ipykernel)",
   "language": "python",
   "name": "python3"
  },
  "language_info": {
   "codemirror_mode": {
    "name": "ipython",
    "version": 3
   },
   "file_extension": ".py",
   "mimetype": "text/x-python",
   "name": "python",
   "nbconvert_exporter": "python",
   "pygments_lexer": "ipython3",
   "version": "3.9.7"
  }
 },
 "nbformat": 4,
 "nbformat_minor": 5
}
