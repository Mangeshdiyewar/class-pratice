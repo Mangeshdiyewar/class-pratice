{
 "cells": [
  {
   "cell_type": "code",
   "execution_count": 1,
   "id": "fa1b8ae0",
   "metadata": {},
   "outputs": [],
   "source": [
    "import pandas as pd"
   ]
  },
  {
   "cell_type": "code",
   "execution_count": 10,
   "id": "84cf90ba",
   "metadata": {},
   "outputs": [],
   "source": [
    "data = {'name': [\"sudh\",\"krish\",\"hitesh\", \"telusko\" ],\n",
    "       \"salary\":[100,200,300,400],\n",
    "       \"mail_id\":[\"sudanshu@ineuron.ai\",\"krish@ineuron.ai\",\"hitesh@ineuron.ai\",\"telusko@ineuron.ai\"],\n",
    "       \"addr\":['bir',\"bir\",\"bir\",\"mum\"]\n",
    "       \n",
    "       }"
   ]
  },
  {
   "cell_type": "code",
   "execution_count": 35,
   "id": "1f037f91",
   "metadata": {},
   "outputs": [
    {
     "data": {
      "text/html": [
       "<div>\n",
       "<style scoped>\n",
       "    .dataframe tbody tr th:only-of-type {\n",
       "        vertical-align: middle;\n",
       "    }\n",
       "\n",
       "    .dataframe tbody tr th {\n",
       "        vertical-align: top;\n",
       "    }\n",
       "\n",
       "    .dataframe thead th {\n",
       "        text-align: right;\n",
       "    }\n",
       "</style>\n",
       "<table border=\"1\" class=\"dataframe\">\n",
       "  <thead>\n",
       "    <tr style=\"text-align: right;\">\n",
       "      <th></th>\n",
       "      <th>name</th>\n",
       "      <th>salary</th>\n",
       "      <th>mail_id</th>\n",
       "      <th>addr</th>\n",
       "    </tr>\n",
       "  </thead>\n",
       "  <tbody>\n",
       "    <tr>\n",
       "      <th>0</th>\n",
       "      <td>sudh</td>\n",
       "      <td>100</td>\n",
       "      <td>sudanshu@ineuron.ai</td>\n",
       "      <td>bir</td>\n",
       "    </tr>\n",
       "    <tr>\n",
       "      <th>1</th>\n",
       "      <td>krish</td>\n",
       "      <td>200</td>\n",
       "      <td>krish@ineuron.ai</td>\n",
       "      <td>bir</td>\n",
       "    </tr>\n",
       "    <tr>\n",
       "      <th>2</th>\n",
       "      <td>hitesh</td>\n",
       "      <td>300</td>\n",
       "      <td>hitesh@ineuron.ai</td>\n",
       "      <td>bir</td>\n",
       "    </tr>\n",
       "    <tr>\n",
       "      <th>3</th>\n",
       "      <td>telusko</td>\n",
       "      <td>400</td>\n",
       "      <td>telusko@ineuron.ai</td>\n",
       "      <td>mum</td>\n",
       "    </tr>\n",
       "  </tbody>\n",
       "</table>\n",
       "</div>"
      ],
      "text/plain": [
       "      name  salary              mail_id addr\n",
       "0     sudh     100  sudanshu@ineuron.ai  bir\n",
       "1    krish     200     krish@ineuron.ai  bir\n",
       "2   hitesh     300    hitesh@ineuron.ai  bir\n",
       "3  telusko     400   telusko@ineuron.ai  mum"
      ]
     },
     "execution_count": 35,
     "metadata": {},
     "output_type": "execute_result"
    }
   ],
   "source": [
    "pd.DataFrame(data,)"
   ]
  },
  {
   "cell_type": "code",
   "execution_count": 36,
   "id": "81a8be59",
   "metadata": {},
   "outputs": [],
   "source": [
    "df =pd.DataFrame(data)"
   ]
  },
  {
   "cell_type": "code",
   "execution_count": 20,
   "id": "1ec9e2cb",
   "metadata": {},
   "outputs": [
    {
     "data": {
      "text/html": [
       "<div>\n",
       "<style scoped>\n",
       "    .dataframe tbody tr th:only-of-type {\n",
       "        vertical-align: middle;\n",
       "    }\n",
       "\n",
       "    .dataframe tbody tr th {\n",
       "        vertical-align: top;\n",
       "    }\n",
       "\n",
       "    .dataframe thead th {\n",
       "        text-align: right;\n",
       "    }\n",
       "</style>\n",
       "<table border=\"1\" class=\"dataframe\">\n",
       "  <thead>\n",
       "    <tr style=\"text-align: right;\">\n",
       "      <th></th>\n",
       "      <th>name</th>\n",
       "      <th>salary</th>\n",
       "      <th>mail_id</th>\n",
       "      <th>addr</th>\n",
       "    </tr>\n",
       "  </thead>\n",
       "  <tbody>\n",
       "    <tr>\n",
       "      <th>5</th>\n",
       "      <td>krish</td>\n",
       "      <td>200</td>\n",
       "      <td>krish@ineuron.ai</td>\n",
       "      <td>bir</td>\n",
       "    </tr>\n",
       "    <tr>\n",
       "      <th>6</th>\n",
       "      <td>hitesh</td>\n",
       "      <td>300</td>\n",
       "      <td>hitesh@ineuron.ai</td>\n",
       "      <td>bir</td>\n",
       "    </tr>\n",
       "  </tbody>\n",
       "</table>\n",
       "</div>"
      ],
      "text/plain": [
       "     name  salary            mail_id addr\n",
       "5   krish     200   krish@ineuron.ai  bir\n",
       "6  hitesh     300  hitesh@ineuron.ai  bir"
      ]
     },
     "execution_count": 20,
     "metadata": {},
     "output_type": "execute_result"
    }
   ],
   "source": [
    "df.loc[5:6]"
   ]
  },
  {
   "cell_type": "code",
   "execution_count": 22,
   "id": "2bfa41e3",
   "metadata": {},
   "outputs": [
    {
     "data": {
      "text/html": [
       "<div>\n",
       "<style scoped>\n",
       "    .dataframe tbody tr th:only-of-type {\n",
       "        vertical-align: middle;\n",
       "    }\n",
       "\n",
       "    .dataframe tbody tr th {\n",
       "        vertical-align: top;\n",
       "    }\n",
       "\n",
       "    .dataframe thead th {\n",
       "        text-align: right;\n",
       "    }\n",
       "</style>\n",
       "<table border=\"1\" class=\"dataframe\">\n",
       "  <thead>\n",
       "    <tr style=\"text-align: right;\">\n",
       "      <th></th>\n",
       "      <th>name</th>\n",
       "      <th>salary</th>\n",
       "      <th>mail_id</th>\n",
       "      <th>addr</th>\n",
       "    </tr>\n",
       "  </thead>\n",
       "  <tbody>\n",
       "    <tr>\n",
       "      <th>5</th>\n",
       "      <td>krish</td>\n",
       "      <td>200</td>\n",
       "      <td>krish@ineuron.ai</td>\n",
       "      <td>bir</td>\n",
       "    </tr>\n",
       "    <tr>\n",
       "      <th>6</th>\n",
       "      <td>hitesh</td>\n",
       "      <td>300</td>\n",
       "      <td>hitesh@ineuron.ai</td>\n",
       "      <td>bir</td>\n",
       "    </tr>\n",
       "    <tr>\n",
       "      <th>7</th>\n",
       "      <td>telusko</td>\n",
       "      <td>400</td>\n",
       "      <td>telusko@ineuron.ai</td>\n",
       "      <td>mum</td>\n",
       "    </tr>\n",
       "  </tbody>\n",
       "</table>\n",
       "</div>"
      ],
      "text/plain": [
       "      name  salary             mail_id addr\n",
       "5    krish     200    krish@ineuron.ai  bir\n",
       "6   hitesh     300   hitesh@ineuron.ai  bir\n",
       "7  telusko     400  telusko@ineuron.ai  mum"
      ]
     },
     "execution_count": 22,
     "metadata": {},
     "output_type": "execute_result"
    }
   ],
   "source": []
  },
  {
   "cell_type": "code",
   "execution_count": 28,
   "id": "8251e232",
   "metadata": {},
   "outputs": [],
   "source": [
    "data1 = {\"pf_num\":[234,47,4596,4624],\n",
    "         \"income_tax\":[455,57472,6973,77465],\n",
    "         \"mobile_no\":[4454,674,672,68768],\n",
    "         \"courses\":[\"ds\",'bigdata',\"web dev\",\"blockchain\"]\n",
    "    \n",
    "}"
   ]
  },
  {
   "cell_type": "code",
   "execution_count": 30,
   "id": "80fcef10",
   "metadata": {},
   "outputs": [],
   "source": [
    "df1 =pd.DataFrame(data1)"
   ]
  },
  {
   "cell_type": "code",
   "execution_count": 31,
   "id": "682f8061",
   "metadata": {},
   "outputs": [
    {
     "data": {
      "text/html": [
       "<div>\n",
       "<style scoped>\n",
       "    .dataframe tbody tr th:only-of-type {\n",
       "        vertical-align: middle;\n",
       "    }\n",
       "\n",
       "    .dataframe tbody tr th {\n",
       "        vertical-align: top;\n",
       "    }\n",
       "\n",
       "    .dataframe thead th {\n",
       "        text-align: right;\n",
       "    }\n",
       "</style>\n",
       "<table border=\"1\" class=\"dataframe\">\n",
       "  <thead>\n",
       "    <tr style=\"text-align: right;\">\n",
       "      <th></th>\n",
       "      <th>pf_num</th>\n",
       "      <th>income_tax</th>\n",
       "      <th>mobile_no</th>\n",
       "      <th>courses</th>\n",
       "    </tr>\n",
       "  </thead>\n",
       "  <tbody>\n",
       "    <tr>\n",
       "      <th>0</th>\n",
       "      <td>234</td>\n",
       "      <td>455</td>\n",
       "      <td>4454</td>\n",
       "      <td>ds</td>\n",
       "    </tr>\n",
       "    <tr>\n",
       "      <th>1</th>\n",
       "      <td>47</td>\n",
       "      <td>57472</td>\n",
       "      <td>674</td>\n",
       "      <td>bigdata</td>\n",
       "    </tr>\n",
       "    <tr>\n",
       "      <th>2</th>\n",
       "      <td>4596</td>\n",
       "      <td>6973</td>\n",
       "      <td>672</td>\n",
       "      <td>web dev</td>\n",
       "    </tr>\n",
       "    <tr>\n",
       "      <th>3</th>\n",
       "      <td>4624</td>\n",
       "      <td>77465</td>\n",
       "      <td>68768</td>\n",
       "      <td>blockchain</td>\n",
       "    </tr>\n",
       "  </tbody>\n",
       "</table>\n",
       "</div>"
      ],
      "text/plain": [
       "   pf_num  income_tax  mobile_no     courses\n",
       "0     234         455       4454          ds\n",
       "1      47       57472        674     bigdata\n",
       "2    4596        6973        672     web dev\n",
       "3    4624       77465      68768  blockchain"
      ]
     },
     "execution_count": 31,
     "metadata": {},
     "output_type": "execute_result"
    }
   ],
   "source": [
    "df1"
   ]
  },
  {
   "cell_type": "code",
   "execution_count": 32,
   "id": "85e8f442",
   "metadata": {},
   "outputs": [],
   "source": [
    "#concationation operation"
   ]
  },
  {
   "cell_type": "code",
   "execution_count": 37,
   "id": "4a5619fb",
   "metadata": {},
   "outputs": [
    {
     "data": {
      "text/html": [
       "<div>\n",
       "<style scoped>\n",
       "    .dataframe tbody tr th:only-of-type {\n",
       "        vertical-align: middle;\n",
       "    }\n",
       "\n",
       "    .dataframe tbody tr th {\n",
       "        vertical-align: top;\n",
       "    }\n",
       "\n",
       "    .dataframe thead th {\n",
       "        text-align: right;\n",
       "    }\n",
       "</style>\n",
       "<table border=\"1\" class=\"dataframe\">\n",
       "  <thead>\n",
       "    <tr style=\"text-align: right;\">\n",
       "      <th></th>\n",
       "      <th>name</th>\n",
       "      <th>salary</th>\n",
       "      <th>mail_id</th>\n",
       "      <th>addr</th>\n",
       "      <th>pf_num</th>\n",
       "      <th>income_tax</th>\n",
       "      <th>mobile_no</th>\n",
       "      <th>courses</th>\n",
       "    </tr>\n",
       "  </thead>\n",
       "  <tbody>\n",
       "    <tr>\n",
       "      <th>0</th>\n",
       "      <td>sudh</td>\n",
       "      <td>100.0</td>\n",
       "      <td>sudanshu@ineuron.ai</td>\n",
       "      <td>bir</td>\n",
       "      <td>NaN</td>\n",
       "      <td>NaN</td>\n",
       "      <td>NaN</td>\n",
       "      <td>NaN</td>\n",
       "    </tr>\n",
       "    <tr>\n",
       "      <th>1</th>\n",
       "      <td>krish</td>\n",
       "      <td>200.0</td>\n",
       "      <td>krish@ineuron.ai</td>\n",
       "      <td>bir</td>\n",
       "      <td>NaN</td>\n",
       "      <td>NaN</td>\n",
       "      <td>NaN</td>\n",
       "      <td>NaN</td>\n",
       "    </tr>\n",
       "    <tr>\n",
       "      <th>2</th>\n",
       "      <td>hitesh</td>\n",
       "      <td>300.0</td>\n",
       "      <td>hitesh@ineuron.ai</td>\n",
       "      <td>bir</td>\n",
       "      <td>NaN</td>\n",
       "      <td>NaN</td>\n",
       "      <td>NaN</td>\n",
       "      <td>NaN</td>\n",
       "    </tr>\n",
       "    <tr>\n",
       "      <th>3</th>\n",
       "      <td>telusko</td>\n",
       "      <td>400.0</td>\n",
       "      <td>telusko@ineuron.ai</td>\n",
       "      <td>mum</td>\n",
       "      <td>NaN</td>\n",
       "      <td>NaN</td>\n",
       "      <td>NaN</td>\n",
       "      <td>NaN</td>\n",
       "    </tr>\n",
       "    <tr>\n",
       "      <th>0</th>\n",
       "      <td>NaN</td>\n",
       "      <td>NaN</td>\n",
       "      <td>NaN</td>\n",
       "      <td>NaN</td>\n",
       "      <td>234.0</td>\n",
       "      <td>455.0</td>\n",
       "      <td>4454.0</td>\n",
       "      <td>ds</td>\n",
       "    </tr>\n",
       "    <tr>\n",
       "      <th>1</th>\n",
       "      <td>NaN</td>\n",
       "      <td>NaN</td>\n",
       "      <td>NaN</td>\n",
       "      <td>NaN</td>\n",
       "      <td>47.0</td>\n",
       "      <td>57472.0</td>\n",
       "      <td>674.0</td>\n",
       "      <td>bigdata</td>\n",
       "    </tr>\n",
       "    <tr>\n",
       "      <th>2</th>\n",
       "      <td>NaN</td>\n",
       "      <td>NaN</td>\n",
       "      <td>NaN</td>\n",
       "      <td>NaN</td>\n",
       "      <td>4596.0</td>\n",
       "      <td>6973.0</td>\n",
       "      <td>672.0</td>\n",
       "      <td>web dev</td>\n",
       "    </tr>\n",
       "    <tr>\n",
       "      <th>3</th>\n",
       "      <td>NaN</td>\n",
       "      <td>NaN</td>\n",
       "      <td>NaN</td>\n",
       "      <td>NaN</td>\n",
       "      <td>4624.0</td>\n",
       "      <td>77465.0</td>\n",
       "      <td>68768.0</td>\n",
       "      <td>blockchain</td>\n",
       "    </tr>\n",
       "  </tbody>\n",
       "</table>\n",
       "</div>"
      ],
      "text/plain": [
       "      name  salary              mail_id addr  pf_num  income_tax  mobile_no  \\\n",
       "0     sudh   100.0  sudanshu@ineuron.ai  bir     NaN         NaN        NaN   \n",
       "1    krish   200.0     krish@ineuron.ai  bir     NaN         NaN        NaN   \n",
       "2   hitesh   300.0    hitesh@ineuron.ai  bir     NaN         NaN        NaN   \n",
       "3  telusko   400.0   telusko@ineuron.ai  mum     NaN         NaN        NaN   \n",
       "0      NaN     NaN                  NaN  NaN   234.0       455.0     4454.0   \n",
       "1      NaN     NaN                  NaN  NaN    47.0     57472.0      674.0   \n",
       "2      NaN     NaN                  NaN  NaN  4596.0      6973.0      672.0   \n",
       "3      NaN     NaN                  NaN  NaN  4624.0     77465.0    68768.0   \n",
       "\n",
       "      courses  \n",
       "0         NaN  \n",
       "1         NaN  \n",
       "2         NaN  \n",
       "3         NaN  \n",
       "0          ds  \n",
       "1     bigdata  \n",
       "2     web dev  \n",
       "3  blockchain  "
      ]
     },
     "execution_count": 37,
     "metadata": {},
     "output_type": "execute_result"
    }
   ],
   "source": [
    "pd.concat([df,df1])"
   ]
  },
  {
   "cell_type": "code",
   "execution_count": 38,
   "id": "f32bc8ad",
   "metadata": {},
   "outputs": [
    {
     "data": {
      "text/html": [
       "<div>\n",
       "<style scoped>\n",
       "    .dataframe tbody tr th:only-of-type {\n",
       "        vertical-align: middle;\n",
       "    }\n",
       "\n",
       "    .dataframe tbody tr th {\n",
       "        vertical-align: top;\n",
       "    }\n",
       "\n",
       "    .dataframe thead th {\n",
       "        text-align: right;\n",
       "    }\n",
       "</style>\n",
       "<table border=\"1\" class=\"dataframe\">\n",
       "  <thead>\n",
       "    <tr style=\"text-align: right;\">\n",
       "      <th></th>\n",
       "      <th>name</th>\n",
       "      <th>salary</th>\n",
       "      <th>mail_id</th>\n",
       "      <th>addr</th>\n",
       "      <th>pf_num</th>\n",
       "      <th>income_tax</th>\n",
       "      <th>mobile_no</th>\n",
       "      <th>courses</th>\n",
       "    </tr>\n",
       "  </thead>\n",
       "  <tbody>\n",
       "    <tr>\n",
       "      <th>0</th>\n",
       "      <td>sudh</td>\n",
       "      <td>100</td>\n",
       "      <td>sudanshu@ineuron.ai</td>\n",
       "      <td>bir</td>\n",
       "      <td>234</td>\n",
       "      <td>455</td>\n",
       "      <td>4454</td>\n",
       "      <td>ds</td>\n",
       "    </tr>\n",
       "    <tr>\n",
       "      <th>1</th>\n",
       "      <td>krish</td>\n",
       "      <td>200</td>\n",
       "      <td>krish@ineuron.ai</td>\n",
       "      <td>bir</td>\n",
       "      <td>47</td>\n",
       "      <td>57472</td>\n",
       "      <td>674</td>\n",
       "      <td>bigdata</td>\n",
       "    </tr>\n",
       "    <tr>\n",
       "      <th>2</th>\n",
       "      <td>hitesh</td>\n",
       "      <td>300</td>\n",
       "      <td>hitesh@ineuron.ai</td>\n",
       "      <td>bir</td>\n",
       "      <td>4596</td>\n",
       "      <td>6973</td>\n",
       "      <td>672</td>\n",
       "      <td>web dev</td>\n",
       "    </tr>\n",
       "    <tr>\n",
       "      <th>3</th>\n",
       "      <td>telusko</td>\n",
       "      <td>400</td>\n",
       "      <td>telusko@ineuron.ai</td>\n",
       "      <td>mum</td>\n",
       "      <td>4624</td>\n",
       "      <td>77465</td>\n",
       "      <td>68768</td>\n",
       "      <td>blockchain</td>\n",
       "    </tr>\n",
       "  </tbody>\n",
       "</table>\n",
       "</div>"
      ],
      "text/plain": [
       "      name  salary              mail_id addr  pf_num  income_tax  mobile_no  \\\n",
       "0     sudh     100  sudanshu@ineuron.ai  bir     234         455       4454   \n",
       "1    krish     200     krish@ineuron.ai  bir      47       57472        674   \n",
       "2   hitesh     300    hitesh@ineuron.ai  bir    4596        6973        672   \n",
       "3  telusko     400   telusko@ineuron.ai  mum    4624       77465      68768   \n",
       "\n",
       "      courses  \n",
       "0          ds  \n",
       "1     bigdata  \n",
       "2     web dev  \n",
       "3  blockchain  "
      ]
     },
     "execution_count": 38,
     "metadata": {},
     "output_type": "execute_result"
    }
   ],
   "source": [
    "pd.concat([df,df1], axis=1)"
   ]
  },
  {
   "cell_type": "code",
   "execution_count": 39,
   "id": "8121fe02",
   "metadata": {},
   "outputs": [],
   "source": [
    "data2 = {'0': [\"sudh\",\"krish\",\"hitesh\", \"telusko\" ],\n",
    "       \"1\":[100,200,300,400],\n",
    "       \"2\":[\"sudanshu@ineuron.ai\",\"krish@ineuron.ai\",\"hitesh@ineuron.ai\",\"telusko@ineuron.ai\"],\n",
    "       \"3\":['bir',\"bir\",\"bir\",\"mum\"]\n",
    "       \n",
    "       }"
   ]
  },
  {
   "cell_type": "code",
   "execution_count": 40,
   "id": "14d59f24",
   "metadata": {},
   "outputs": [],
   "source": [
    "data3 = {\"0\":[234,47,4596,4624],\n",
    "         \"1\":[455,57472,6973,77465],\n",
    "         \"2\":[4454,674,672,68768],\n",
    "         \"3\":[\"ds\",'bigdata',\"web dev\",\"blockchain\"]\n",
    "    \n",
    "}"
   ]
  },
  {
   "cell_type": "code",
   "execution_count": 42,
   "id": "2e9f4515",
   "metadata": {},
   "outputs": [],
   "source": [
    "df2 = pd.DataFrame(data2)"
   ]
  },
  {
   "cell_type": "code",
   "execution_count": 44,
   "id": "7c7a7eb2",
   "metadata": {},
   "outputs": [],
   "source": [
    "df3= pd.DataFrame(data3)"
   ]
  },
  {
   "cell_type": "code",
   "execution_count": 47,
   "id": "a8b494e9",
   "metadata": {},
   "outputs": [
    {
     "data": {
      "text/html": [
       "<div>\n",
       "<style scoped>\n",
       "    .dataframe tbody tr th:only-of-type {\n",
       "        vertical-align: middle;\n",
       "    }\n",
       "\n",
       "    .dataframe tbody tr th {\n",
       "        vertical-align: top;\n",
       "    }\n",
       "\n",
       "    .dataframe thead th {\n",
       "        text-align: right;\n",
       "    }\n",
       "</style>\n",
       "<table border=\"1\" class=\"dataframe\">\n",
       "  <thead>\n",
       "    <tr style=\"text-align: right;\">\n",
       "      <th></th>\n",
       "      <th>0</th>\n",
       "      <th>1</th>\n",
       "      <th>2</th>\n",
       "      <th>3</th>\n",
       "    </tr>\n",
       "  </thead>\n",
       "  <tbody>\n",
       "    <tr>\n",
       "      <th>0</th>\n",
       "      <td>sudh</td>\n",
       "      <td>100</td>\n",
       "      <td>sudanshu@ineuron.ai</td>\n",
       "      <td>bir</td>\n",
       "    </tr>\n",
       "    <tr>\n",
       "      <th>1</th>\n",
       "      <td>krish</td>\n",
       "      <td>200</td>\n",
       "      <td>krish@ineuron.ai</td>\n",
       "      <td>bir</td>\n",
       "    </tr>\n",
       "    <tr>\n",
       "      <th>2</th>\n",
       "      <td>hitesh</td>\n",
       "      <td>300</td>\n",
       "      <td>hitesh@ineuron.ai</td>\n",
       "      <td>bir</td>\n",
       "    </tr>\n",
       "    <tr>\n",
       "      <th>3</th>\n",
       "      <td>telusko</td>\n",
       "      <td>400</td>\n",
       "      <td>telusko@ineuron.ai</td>\n",
       "      <td>mum</td>\n",
       "    </tr>\n",
       "    <tr>\n",
       "      <th>0</th>\n",
       "      <td>234</td>\n",
       "      <td>455</td>\n",
       "      <td>4454</td>\n",
       "      <td>ds</td>\n",
       "    </tr>\n",
       "    <tr>\n",
       "      <th>1</th>\n",
       "      <td>47</td>\n",
       "      <td>57472</td>\n",
       "      <td>674</td>\n",
       "      <td>bigdata</td>\n",
       "    </tr>\n",
       "    <tr>\n",
       "      <th>2</th>\n",
       "      <td>4596</td>\n",
       "      <td>6973</td>\n",
       "      <td>672</td>\n",
       "      <td>web dev</td>\n",
       "    </tr>\n",
       "    <tr>\n",
       "      <th>3</th>\n",
       "      <td>4624</td>\n",
       "      <td>77465</td>\n",
       "      <td>68768</td>\n",
       "      <td>blockchain</td>\n",
       "    </tr>\n",
       "  </tbody>\n",
       "</table>\n",
       "</div>"
      ],
      "text/plain": [
       "         0      1                    2           3\n",
       "0     sudh    100  sudanshu@ineuron.ai         bir\n",
       "1    krish    200     krish@ineuron.ai         bir\n",
       "2   hitesh    300    hitesh@ineuron.ai         bir\n",
       "3  telusko    400   telusko@ineuron.ai         mum\n",
       "0      234    455                 4454          ds\n",
       "1       47  57472                  674     bigdata\n",
       "2     4596   6973                  672     web dev\n",
       "3     4624  77465                68768  blockchain"
      ]
     },
     "execution_count": 47,
     "metadata": {},
     "output_type": "execute_result"
    }
   ],
   "source": [
    "pd.concat([df2,df3] )"
   ]
  },
  {
   "cell_type": "code",
   "execution_count": 48,
   "id": "087e910c",
   "metadata": {
    "scrolled": true
   },
   "outputs": [
    {
     "data": {
      "text/html": [
       "<div>\n",
       "<style scoped>\n",
       "    .dataframe tbody tr th:only-of-type {\n",
       "        vertical-align: middle;\n",
       "    }\n",
       "\n",
       "    .dataframe tbody tr th {\n",
       "        vertical-align: top;\n",
       "    }\n",
       "\n",
       "    .dataframe thead th {\n",
       "        text-align: right;\n",
       "    }\n",
       "</style>\n",
       "<table border=\"1\" class=\"dataframe\">\n",
       "  <thead>\n",
       "    <tr style=\"text-align: right;\">\n",
       "      <th></th>\n",
       "      <th>0</th>\n",
       "      <th>1</th>\n",
       "      <th>2</th>\n",
       "      <th>3</th>\n",
       "      <th>0</th>\n",
       "      <th>1</th>\n",
       "      <th>2</th>\n",
       "      <th>3</th>\n",
       "    </tr>\n",
       "  </thead>\n",
       "  <tbody>\n",
       "    <tr>\n",
       "      <th>0</th>\n",
       "      <td>sudh</td>\n",
       "      <td>100</td>\n",
       "      <td>sudanshu@ineuron.ai</td>\n",
       "      <td>bir</td>\n",
       "      <td>234</td>\n",
       "      <td>455</td>\n",
       "      <td>4454</td>\n",
       "      <td>ds</td>\n",
       "    </tr>\n",
       "    <tr>\n",
       "      <th>1</th>\n",
       "      <td>krish</td>\n",
       "      <td>200</td>\n",
       "      <td>krish@ineuron.ai</td>\n",
       "      <td>bir</td>\n",
       "      <td>47</td>\n",
       "      <td>57472</td>\n",
       "      <td>674</td>\n",
       "      <td>bigdata</td>\n",
       "    </tr>\n",
       "    <tr>\n",
       "      <th>2</th>\n",
       "      <td>hitesh</td>\n",
       "      <td>300</td>\n",
       "      <td>hitesh@ineuron.ai</td>\n",
       "      <td>bir</td>\n",
       "      <td>4596</td>\n",
       "      <td>6973</td>\n",
       "      <td>672</td>\n",
       "      <td>web dev</td>\n",
       "    </tr>\n",
       "    <tr>\n",
       "      <th>3</th>\n",
       "      <td>telusko</td>\n",
       "      <td>400</td>\n",
       "      <td>telusko@ineuron.ai</td>\n",
       "      <td>mum</td>\n",
       "      <td>4624</td>\n",
       "      <td>77465</td>\n",
       "      <td>68768</td>\n",
       "      <td>blockchain</td>\n",
       "    </tr>\n",
       "  </tbody>\n",
       "</table>\n",
       "</div>"
      ],
      "text/plain": [
       "         0    1                    2    3     0      1      2           3\n",
       "0     sudh  100  sudanshu@ineuron.ai  bir   234    455   4454          ds\n",
       "1    krish  200     krish@ineuron.ai  bir    47  57472    674     bigdata\n",
       "2   hitesh  300    hitesh@ineuron.ai  bir  4596   6973    672     web dev\n",
       "3  telusko  400   telusko@ineuron.ai  mum  4624  77465  68768  blockchain"
      ]
     },
     "execution_count": 48,
     "metadata": {},
     "output_type": "execute_result"
    }
   ],
   "source": [
    "pd.concat([df2,df3] , axis=1)"
   ]
  },
  {
   "cell_type": "code",
   "execution_count": 49,
   "id": "cfc10363",
   "metadata": {},
   "outputs": [],
   "source": [
    "data4 = {\"emp_id\":[101,102,103,104],\n",
    "         \"salary\":[234,345,200,400],\n",
    "         \"pf\":[23,34,56,78]\n",
    "    \n",
    "    \n",
    "}"
   ]
  },
  {
   "cell_type": "code",
   "execution_count": 57,
   "id": "9722a075",
   "metadata": {},
   "outputs": [],
   "source": [
    "data5 = {\"emp_id\":[101,102,104,105],\n",
    "        \"mob_no\":[3455,5656,767,878],\n",
    "        \"house_nu\":[345,345,345,56]\n",
    "        }"
   ]
  },
  {
   "cell_type": "code",
   "execution_count": 58,
   "id": "733cb4b0",
   "metadata": {},
   "outputs": [],
   "source": [
    " df4 = pd.DataFrame(data4)"
   ]
  },
  {
   "cell_type": "code",
   "execution_count": 59,
   "id": "36123f26",
   "metadata": {},
   "outputs": [],
   "source": [
    "df5 = pd.DataFrame(data5)"
   ]
  },
  {
   "cell_type": "code",
   "execution_count": 66,
   "id": "b13ff9d9",
   "metadata": {},
   "outputs": [
    {
     "data": {
      "text/html": [
       "<div>\n",
       "<style scoped>\n",
       "    .dataframe tbody tr th:only-of-type {\n",
       "        vertical-align: middle;\n",
       "    }\n",
       "\n",
       "    .dataframe tbody tr th {\n",
       "        vertical-align: top;\n",
       "    }\n",
       "\n",
       "    .dataframe thead th {\n",
       "        text-align: right;\n",
       "    }\n",
       "</style>\n",
       "<table border=\"1\" class=\"dataframe\">\n",
       "  <thead>\n",
       "    <tr style=\"text-align: right;\">\n",
       "      <th></th>\n",
       "      <th>emp_id</th>\n",
       "      <th>salary</th>\n",
       "      <th>pf</th>\n",
       "    </tr>\n",
       "  </thead>\n",
       "  <tbody>\n",
       "    <tr>\n",
       "      <th>0</th>\n",
       "      <td>101</td>\n",
       "      <td>234</td>\n",
       "      <td>23</td>\n",
       "    </tr>\n",
       "    <tr>\n",
       "      <th>1</th>\n",
       "      <td>102</td>\n",
       "      <td>345</td>\n",
       "      <td>34</td>\n",
       "    </tr>\n",
       "    <tr>\n",
       "      <th>2</th>\n",
       "      <td>103</td>\n",
       "      <td>200</td>\n",
       "      <td>56</td>\n",
       "    </tr>\n",
       "    <tr>\n",
       "      <th>3</th>\n",
       "      <td>104</td>\n",
       "      <td>400</td>\n",
       "      <td>78</td>\n",
       "    </tr>\n",
       "  </tbody>\n",
       "</table>\n",
       "</div>"
      ],
      "text/plain": [
       "   emp_id  salary  pf\n",
       "0     101     234  23\n",
       "1     102     345  34\n",
       "2     103     200  56\n",
       "3     104     400  78"
      ]
     },
     "execution_count": 66,
     "metadata": {},
     "output_type": "execute_result"
    }
   ],
   "source": [
    "df4"
   ]
  },
  {
   "cell_type": "code",
   "execution_count": 65,
   "id": "7b536655",
   "metadata": {},
   "outputs": [
    {
     "data": {
      "text/html": [
       "<div>\n",
       "<style scoped>\n",
       "    .dataframe tbody tr th:only-of-type {\n",
       "        vertical-align: middle;\n",
       "    }\n",
       "\n",
       "    .dataframe tbody tr th {\n",
       "        vertical-align: top;\n",
       "    }\n",
       "\n",
       "    .dataframe thead th {\n",
       "        text-align: right;\n",
       "    }\n",
       "</style>\n",
       "<table border=\"1\" class=\"dataframe\">\n",
       "  <thead>\n",
       "    <tr style=\"text-align: right;\">\n",
       "      <th></th>\n",
       "      <th>emp_id</th>\n",
       "      <th>mob_no</th>\n",
       "      <th>house_nu</th>\n",
       "    </tr>\n",
       "  </thead>\n",
       "  <tbody>\n",
       "    <tr>\n",
       "      <th>0</th>\n",
       "      <td>101</td>\n",
       "      <td>3455</td>\n",
       "      <td>345</td>\n",
       "    </tr>\n",
       "    <tr>\n",
       "      <th>1</th>\n",
       "      <td>102</td>\n",
       "      <td>5656</td>\n",
       "      <td>345</td>\n",
       "    </tr>\n",
       "    <tr>\n",
       "      <th>2</th>\n",
       "      <td>104</td>\n",
       "      <td>767</td>\n",
       "      <td>345</td>\n",
       "    </tr>\n",
       "    <tr>\n",
       "      <th>3</th>\n",
       "      <td>105</td>\n",
       "      <td>878</td>\n",
       "      <td>56</td>\n",
       "    </tr>\n",
       "  </tbody>\n",
       "</table>\n",
       "</div>"
      ],
      "text/plain": [
       "   emp_id  mob_no  house_nu\n",
       "0     101    3455       345\n",
       "1     102    5656       345\n",
       "2     104     767       345\n",
       "3     105     878        56"
      ]
     },
     "execution_count": 65,
     "metadata": {},
     "output_type": "execute_result"
    }
   ],
   "source": [
    "df5"
   ]
  },
  {
   "cell_type": "code",
   "execution_count": 62,
   "id": "24cdea3a",
   "metadata": {},
   "outputs": [
    {
     "data": {
      "text/html": [
       "<div>\n",
       "<style scoped>\n",
       "    .dataframe tbody tr th:only-of-type {\n",
       "        vertical-align: middle;\n",
       "    }\n",
       "\n",
       "    .dataframe tbody tr th {\n",
       "        vertical-align: top;\n",
       "    }\n",
       "\n",
       "    .dataframe thead th {\n",
       "        text-align: right;\n",
       "    }\n",
       "</style>\n",
       "<table border=\"1\" class=\"dataframe\">\n",
       "  <thead>\n",
       "    <tr style=\"text-align: right;\">\n",
       "      <th></th>\n",
       "      <th>emp_id</th>\n",
       "      <th>salary</th>\n",
       "      <th>pf</th>\n",
       "      <th>mob_no</th>\n",
       "      <th>house_nu</th>\n",
       "    </tr>\n",
       "  </thead>\n",
       "  <tbody>\n",
       "    <tr>\n",
       "      <th>0</th>\n",
       "      <td>101</td>\n",
       "      <td>234</td>\n",
       "      <td>23</td>\n",
       "      <td>3455.0</td>\n",
       "      <td>345.0</td>\n",
       "    </tr>\n",
       "    <tr>\n",
       "      <th>1</th>\n",
       "      <td>102</td>\n",
       "      <td>345</td>\n",
       "      <td>34</td>\n",
       "      <td>5656.0</td>\n",
       "      <td>345.0</td>\n",
       "    </tr>\n",
       "    <tr>\n",
       "      <th>2</th>\n",
       "      <td>103</td>\n",
       "      <td>200</td>\n",
       "      <td>56</td>\n",
       "      <td>NaN</td>\n",
       "      <td>NaN</td>\n",
       "    </tr>\n",
       "    <tr>\n",
       "      <th>3</th>\n",
       "      <td>104</td>\n",
       "      <td>400</td>\n",
       "      <td>78</td>\n",
       "      <td>767.0</td>\n",
       "      <td>345.0</td>\n",
       "    </tr>\n",
       "  </tbody>\n",
       "</table>\n",
       "</div>"
      ],
      "text/plain": [
       "   emp_id  salary  pf  mob_no  house_nu\n",
       "0     101     234  23  3455.0     345.0\n",
       "1     102     345  34  5656.0     345.0\n",
       "2     103     200  56     NaN       NaN\n",
       "3     104     400  78   767.0     345.0"
      ]
     },
     "execution_count": 62,
     "metadata": {},
     "output_type": "execute_result"
    }
   ],
   "source": [
    "pd.merge(df4,df5, how = \"left\")"
   ]
  },
  {
   "cell_type": "code",
   "execution_count": 63,
   "id": "daa8a46f",
   "metadata": {
    "scrolled": false
   },
   "outputs": [
    {
     "data": {
      "text/html": [
       "<div>\n",
       "<style scoped>\n",
       "    .dataframe tbody tr th:only-of-type {\n",
       "        vertical-align: middle;\n",
       "    }\n",
       "\n",
       "    .dataframe tbody tr th {\n",
       "        vertical-align: top;\n",
       "    }\n",
       "\n",
       "    .dataframe thead th {\n",
       "        text-align: right;\n",
       "    }\n",
       "</style>\n",
       "<table border=\"1\" class=\"dataframe\">\n",
       "  <thead>\n",
       "    <tr style=\"text-align: right;\">\n",
       "      <th></th>\n",
       "      <th>emp_id</th>\n",
       "      <th>salary</th>\n",
       "      <th>pf</th>\n",
       "      <th>mob_no</th>\n",
       "      <th>house_nu</th>\n",
       "    </tr>\n",
       "  </thead>\n",
       "  <tbody>\n",
       "    <tr>\n",
       "      <th>0</th>\n",
       "      <td>101</td>\n",
       "      <td>234.0</td>\n",
       "      <td>23.0</td>\n",
       "      <td>3455</td>\n",
       "      <td>345</td>\n",
       "    </tr>\n",
       "    <tr>\n",
       "      <th>1</th>\n",
       "      <td>102</td>\n",
       "      <td>345.0</td>\n",
       "      <td>34.0</td>\n",
       "      <td>5656</td>\n",
       "      <td>345</td>\n",
       "    </tr>\n",
       "    <tr>\n",
       "      <th>2</th>\n",
       "      <td>104</td>\n",
       "      <td>400.0</td>\n",
       "      <td>78.0</td>\n",
       "      <td>767</td>\n",
       "      <td>345</td>\n",
       "    </tr>\n",
       "    <tr>\n",
       "      <th>3</th>\n",
       "      <td>105</td>\n",
       "      <td>NaN</td>\n",
       "      <td>NaN</td>\n",
       "      <td>878</td>\n",
       "      <td>56</td>\n",
       "    </tr>\n",
       "  </tbody>\n",
       "</table>\n",
       "</div>"
      ],
      "text/plain": [
       "   emp_id  salary    pf  mob_no  house_nu\n",
       "0     101   234.0  23.0    3455       345\n",
       "1     102   345.0  34.0    5656       345\n",
       "2     104   400.0  78.0     767       345\n",
       "3     105     NaN   NaN     878        56"
      ]
     },
     "execution_count": 63,
     "metadata": {},
     "output_type": "execute_result"
    }
   ],
   "source": [
    "pd.merge(df4,df5, how = \"right\")"
   ]
  },
  {
   "cell_type": "code",
   "execution_count": 64,
   "id": "3d3c754e",
   "metadata": {},
   "outputs": [
    {
     "data": {
      "text/html": [
       "<div>\n",
       "<style scoped>\n",
       "    .dataframe tbody tr th:only-of-type {\n",
       "        vertical-align: middle;\n",
       "    }\n",
       "\n",
       "    .dataframe tbody tr th {\n",
       "        vertical-align: top;\n",
       "    }\n",
       "\n",
       "    .dataframe thead th {\n",
       "        text-align: right;\n",
       "    }\n",
       "</style>\n",
       "<table border=\"1\" class=\"dataframe\">\n",
       "  <thead>\n",
       "    <tr style=\"text-align: right;\">\n",
       "      <th></th>\n",
       "      <th>emp_id</th>\n",
       "      <th>salary</th>\n",
       "      <th>pf</th>\n",
       "      <th>mob_no</th>\n",
       "      <th>house_nu</th>\n",
       "    </tr>\n",
       "  </thead>\n",
       "  <tbody>\n",
       "    <tr>\n",
       "      <th>0</th>\n",
       "      <td>101</td>\n",
       "      <td>234.0</td>\n",
       "      <td>23.0</td>\n",
       "      <td>3455</td>\n",
       "      <td>345</td>\n",
       "    </tr>\n",
       "    <tr>\n",
       "      <th>1</th>\n",
       "      <td>102</td>\n",
       "      <td>345.0</td>\n",
       "      <td>34.0</td>\n",
       "      <td>5656</td>\n",
       "      <td>345</td>\n",
       "    </tr>\n",
       "    <tr>\n",
       "      <th>2</th>\n",
       "      <td>104</td>\n",
       "      <td>400.0</td>\n",
       "      <td>78.0</td>\n",
       "      <td>767</td>\n",
       "      <td>345</td>\n",
       "    </tr>\n",
       "    <tr>\n",
       "      <th>3</th>\n",
       "      <td>105</td>\n",
       "      <td>NaN</td>\n",
       "      <td>NaN</td>\n",
       "      <td>878</td>\n",
       "      <td>56</td>\n",
       "    </tr>\n",
       "  </tbody>\n",
       "</table>\n",
       "</div>"
      ],
      "text/plain": [
       "   emp_id  salary    pf  mob_no  house_nu\n",
       "0     101   234.0  23.0    3455       345\n",
       "1     102   345.0  34.0    5656       345\n",
       "2     104   400.0  78.0     767       345\n",
       "3     105     NaN   NaN     878        56"
      ]
     },
     "execution_count": 64,
     "metadata": {},
     "output_type": "execute_result"
    }
   ],
   "source": [
    "pd.merge(df4,df5 , how = \"right\", on = \"emp_id\")"
   ]
  },
  {
   "cell_type": "code",
   "execution_count": null,
   "id": "b2f01898",
   "metadata": {},
   "outputs": [],
   "source": [
    "\n"
   ]
  },
  {
   "cell_type": "code",
   "execution_count": 68,
   "id": "b5b624d4",
   "metadata": {},
   "outputs": [],
   "source": [
    "data6 = {\"emp_id1\":[101,102,103,104],\n",
    "         \"salary\":[234,345,200,400],\n",
    "         \"pf\":[23,34,56,78]\n",
    "    \n",
    "    \n",
    "}\n",
    "\n",
    "data7 = {\"emp_id2\":[101,102,104,105],\n",
    "        \"mob_no\":[3455,5656,767,878],\n",
    "        \"house_nu\":[345,345,345,56]\n",
    "        }"
   ]
  },
  {
   "cell_type": "code",
   "execution_count": 69,
   "id": "033dbb67",
   "metadata": {},
   "outputs": [],
   "source": [
    "df6 = pd.DataFrame(data6)"
   ]
  },
  {
   "cell_type": "code",
   "execution_count": 70,
   "id": "ec04d7d7",
   "metadata": {},
   "outputs": [],
   "source": [
    "df7 = pd.DataFrame(data7)"
   ]
  },
  {
   "cell_type": "code",
   "execution_count": 71,
   "id": "ebb1a5c8",
   "metadata": {},
   "outputs": [
    {
     "data": {
      "text/html": [
       "<div>\n",
       "<style scoped>\n",
       "    .dataframe tbody tr th:only-of-type {\n",
       "        vertical-align: middle;\n",
       "    }\n",
       "\n",
       "    .dataframe tbody tr th {\n",
       "        vertical-align: top;\n",
       "    }\n",
       "\n",
       "    .dataframe thead th {\n",
       "        text-align: right;\n",
       "    }\n",
       "</style>\n",
       "<table border=\"1\" class=\"dataframe\">\n",
       "  <thead>\n",
       "    <tr style=\"text-align: right;\">\n",
       "      <th></th>\n",
       "      <th>emp_id1</th>\n",
       "      <th>salary</th>\n",
       "      <th>pf</th>\n",
       "    </tr>\n",
       "  </thead>\n",
       "  <tbody>\n",
       "    <tr>\n",
       "      <th>0</th>\n",
       "      <td>101</td>\n",
       "      <td>234</td>\n",
       "      <td>23</td>\n",
       "    </tr>\n",
       "    <tr>\n",
       "      <th>1</th>\n",
       "      <td>102</td>\n",
       "      <td>345</td>\n",
       "      <td>34</td>\n",
       "    </tr>\n",
       "    <tr>\n",
       "      <th>2</th>\n",
       "      <td>103</td>\n",
       "      <td>200</td>\n",
       "      <td>56</td>\n",
       "    </tr>\n",
       "    <tr>\n",
       "      <th>3</th>\n",
       "      <td>104</td>\n",
       "      <td>400</td>\n",
       "      <td>78</td>\n",
       "    </tr>\n",
       "  </tbody>\n",
       "</table>\n",
       "</div>"
      ],
      "text/plain": [
       "   emp_id1  salary  pf\n",
       "0      101     234  23\n",
       "1      102     345  34\n",
       "2      103     200  56\n",
       "3      104     400  78"
      ]
     },
     "execution_count": 71,
     "metadata": {},
     "output_type": "execute_result"
    }
   ],
   "source": [
    "df6"
   ]
  },
  {
   "cell_type": "code",
   "execution_count": 72,
   "id": "6cef5d25",
   "metadata": {},
   "outputs": [
    {
     "data": {
      "text/html": [
       "<div>\n",
       "<style scoped>\n",
       "    .dataframe tbody tr th:only-of-type {\n",
       "        vertical-align: middle;\n",
       "    }\n",
       "\n",
       "    .dataframe tbody tr th {\n",
       "        vertical-align: top;\n",
       "    }\n",
       "\n",
       "    .dataframe thead th {\n",
       "        text-align: right;\n",
       "    }\n",
       "</style>\n",
       "<table border=\"1\" class=\"dataframe\">\n",
       "  <thead>\n",
       "    <tr style=\"text-align: right;\">\n",
       "      <th></th>\n",
       "      <th>emp_id2</th>\n",
       "      <th>mob_no</th>\n",
       "      <th>house_nu</th>\n",
       "    </tr>\n",
       "  </thead>\n",
       "  <tbody>\n",
       "    <tr>\n",
       "      <th>0</th>\n",
       "      <td>101</td>\n",
       "      <td>3455</td>\n",
       "      <td>345</td>\n",
       "    </tr>\n",
       "    <tr>\n",
       "      <th>1</th>\n",
       "      <td>102</td>\n",
       "      <td>5656</td>\n",
       "      <td>345</td>\n",
       "    </tr>\n",
       "    <tr>\n",
       "      <th>2</th>\n",
       "      <td>104</td>\n",
       "      <td>767</td>\n",
       "      <td>345</td>\n",
       "    </tr>\n",
       "    <tr>\n",
       "      <th>3</th>\n",
       "      <td>105</td>\n",
       "      <td>878</td>\n",
       "      <td>56</td>\n",
       "    </tr>\n",
       "  </tbody>\n",
       "</table>\n",
       "</div>"
      ],
      "text/plain": [
       "   emp_id2  mob_no  house_nu\n",
       "0      101    3455       345\n",
       "1      102    5656       345\n",
       "2      104     767       345\n",
       "3      105     878        56"
      ]
     },
     "execution_count": 72,
     "metadata": {},
     "output_type": "execute_result"
    }
   ],
   "source": [
    "df7"
   ]
  },
  {
   "cell_type": "code",
   "execution_count": 74,
   "id": "447a23c2",
   "metadata": {},
   "outputs": [
    {
     "data": {
      "text/html": [
       "<div>\n",
       "<style scoped>\n",
       "    .dataframe tbody tr th:only-of-type {\n",
       "        vertical-align: middle;\n",
       "    }\n",
       "\n",
       "    .dataframe tbody tr th {\n",
       "        vertical-align: top;\n",
       "    }\n",
       "\n",
       "    .dataframe thead th {\n",
       "        text-align: right;\n",
       "    }\n",
       "</style>\n",
       "<table border=\"1\" class=\"dataframe\">\n",
       "  <thead>\n",
       "    <tr style=\"text-align: right;\">\n",
       "      <th></th>\n",
       "      <th>emp_id1</th>\n",
       "      <th>salary</th>\n",
       "      <th>pf</th>\n",
       "      <th>emp_id2</th>\n",
       "      <th>mob_no</th>\n",
       "      <th>house_nu</th>\n",
       "    </tr>\n",
       "  </thead>\n",
       "  <tbody>\n",
       "    <tr>\n",
       "      <th>0</th>\n",
       "      <td>101</td>\n",
       "      <td>234</td>\n",
       "      <td>23</td>\n",
       "      <td>101</td>\n",
       "      <td>3455</td>\n",
       "      <td>345</td>\n",
       "    </tr>\n",
       "    <tr>\n",
       "      <th>1</th>\n",
       "      <td>102</td>\n",
       "      <td>345</td>\n",
       "      <td>34</td>\n",
       "      <td>102</td>\n",
       "      <td>5656</td>\n",
       "      <td>345</td>\n",
       "    </tr>\n",
       "    <tr>\n",
       "      <th>2</th>\n",
       "      <td>104</td>\n",
       "      <td>400</td>\n",
       "      <td>78</td>\n",
       "      <td>104</td>\n",
       "      <td>767</td>\n",
       "      <td>345</td>\n",
       "    </tr>\n",
       "  </tbody>\n",
       "</table>\n",
       "</div>"
      ],
      "text/plain": [
       "   emp_id1  salary  pf  emp_id2  mob_no  house_nu\n",
       "0      101     234  23      101    3455       345\n",
       "1      102     345  34      102    5656       345\n",
       "2      104     400  78      104     767       345"
      ]
     },
     "execution_count": 74,
     "metadata": {},
     "output_type": "execute_result"
    }
   ],
   "source": [
    "pd.merge(df6,df7 , left_on= \"emp_id1\", right_on= \"emp_id2\")"
   ]
  },
  {
   "cell_type": "code",
   "execution_count": 82,
   "id": "7f8b17d9",
   "metadata": {},
   "outputs": [],
   "source": [
    "data8 = {\"emp_id\":[101,102,103,104],\n",
    "         \"salary\":[234,345,200,400],\n",
    "         \"pf\":[23,34,56,78]\n",
    "    \n",
    "    \n",
    "}\n",
    "\n",
    "data9 = {\"emp_id\":[101,102,104,105,123],\n",
    "        \"salary\":[234,345,200,878,43],\n",
    "        \"house_nu\":[345,345,345,56,234]\n",
    "        }"
   ]
  },
  {
   "cell_type": "code",
   "execution_count": 76,
   "id": "e5f198e8",
   "metadata": {},
   "outputs": [],
   "source": [
    "df8 = pd.DataFrame(data8)"
   ]
  },
  {
   "cell_type": "code",
   "execution_count": 83,
   "id": "a4e2f493",
   "metadata": {},
   "outputs": [],
   "source": [
    "df9 = pd.DataFrame(data9)"
   ]
  },
  {
   "cell_type": "code",
   "execution_count": 84,
   "id": "61d88cab",
   "metadata": {},
   "outputs": [
    {
     "data": {
      "text/html": [
       "<div>\n",
       "<style scoped>\n",
       "    .dataframe tbody tr th:only-of-type {\n",
       "        vertical-align: middle;\n",
       "    }\n",
       "\n",
       "    .dataframe tbody tr th {\n",
       "        vertical-align: top;\n",
       "    }\n",
       "\n",
       "    .dataframe thead th {\n",
       "        text-align: right;\n",
       "    }\n",
       "</style>\n",
       "<table border=\"1\" class=\"dataframe\">\n",
       "  <thead>\n",
       "    <tr style=\"text-align: right;\">\n",
       "      <th></th>\n",
       "      <th>emp_id</th>\n",
       "      <th>salary</th>\n",
       "      <th>pf</th>\n",
       "    </tr>\n",
       "  </thead>\n",
       "  <tbody>\n",
       "    <tr>\n",
       "      <th>0</th>\n",
       "      <td>101</td>\n",
       "      <td>234</td>\n",
       "      <td>23</td>\n",
       "    </tr>\n",
       "    <tr>\n",
       "      <th>1</th>\n",
       "      <td>102</td>\n",
       "      <td>345</td>\n",
       "      <td>34</td>\n",
       "    </tr>\n",
       "    <tr>\n",
       "      <th>2</th>\n",
       "      <td>103</td>\n",
       "      <td>200</td>\n",
       "      <td>56</td>\n",
       "    </tr>\n",
       "    <tr>\n",
       "      <th>3</th>\n",
       "      <td>104</td>\n",
       "      <td>400</td>\n",
       "      <td>78</td>\n",
       "    </tr>\n",
       "  </tbody>\n",
       "</table>\n",
       "</div>"
      ],
      "text/plain": [
       "   emp_id  salary  pf\n",
       "0     101     234  23\n",
       "1     102     345  34\n",
       "2     103     200  56\n",
       "3     104     400  78"
      ]
     },
     "execution_count": 84,
     "metadata": {},
     "output_type": "execute_result"
    }
   ],
   "source": [
    "df8"
   ]
  },
  {
   "cell_type": "code",
   "execution_count": 85,
   "id": "4ca69309",
   "metadata": {},
   "outputs": [
    {
     "data": {
      "text/html": [
       "<div>\n",
       "<style scoped>\n",
       "    .dataframe tbody tr th:only-of-type {\n",
       "        vertical-align: middle;\n",
       "    }\n",
       "\n",
       "    .dataframe tbody tr th {\n",
       "        vertical-align: top;\n",
       "    }\n",
       "\n",
       "    .dataframe thead th {\n",
       "        text-align: right;\n",
       "    }\n",
       "</style>\n",
       "<table border=\"1\" class=\"dataframe\">\n",
       "  <thead>\n",
       "    <tr style=\"text-align: right;\">\n",
       "      <th></th>\n",
       "      <th>emp_id</th>\n",
       "      <th>salary</th>\n",
       "      <th>house_nu</th>\n",
       "    </tr>\n",
       "  </thead>\n",
       "  <tbody>\n",
       "    <tr>\n",
       "      <th>0</th>\n",
       "      <td>101</td>\n",
       "      <td>234</td>\n",
       "      <td>345</td>\n",
       "    </tr>\n",
       "    <tr>\n",
       "      <th>1</th>\n",
       "      <td>102</td>\n",
       "      <td>345</td>\n",
       "      <td>345</td>\n",
       "    </tr>\n",
       "    <tr>\n",
       "      <th>2</th>\n",
       "      <td>104</td>\n",
       "      <td>200</td>\n",
       "      <td>345</td>\n",
       "    </tr>\n",
       "    <tr>\n",
       "      <th>3</th>\n",
       "      <td>105</td>\n",
       "      <td>878</td>\n",
       "      <td>56</td>\n",
       "    </tr>\n",
       "    <tr>\n",
       "      <th>4</th>\n",
       "      <td>123</td>\n",
       "      <td>43</td>\n",
       "      <td>234</td>\n",
       "    </tr>\n",
       "  </tbody>\n",
       "</table>\n",
       "</div>"
      ],
      "text/plain": [
       "   emp_id  salary  house_nu\n",
       "0     101     234       345\n",
       "1     102     345       345\n",
       "2     104     200       345\n",
       "3     105     878        56\n",
       "4     123      43       234"
      ]
     },
     "execution_count": 85,
     "metadata": {},
     "output_type": "execute_result"
    }
   ],
   "source": [
    "df9"
   ]
  },
  {
   "cell_type": "code",
   "execution_count": 86,
   "id": "6f4b7508",
   "metadata": {},
   "outputs": [
    {
     "data": {
      "text/html": [
       "<div>\n",
       "<style scoped>\n",
       "    .dataframe tbody tr th:only-of-type {\n",
       "        vertical-align: middle;\n",
       "    }\n",
       "\n",
       "    .dataframe tbody tr th {\n",
       "        vertical-align: top;\n",
       "    }\n",
       "\n",
       "    .dataframe thead th {\n",
       "        text-align: right;\n",
       "    }\n",
       "</style>\n",
       "<table border=\"1\" class=\"dataframe\">\n",
       "  <thead>\n",
       "    <tr style=\"text-align: right;\">\n",
       "      <th></th>\n",
       "      <th>emp_id</th>\n",
       "      <th>salary</th>\n",
       "      <th>pf</th>\n",
       "      <th>house_nu</th>\n",
       "    </tr>\n",
       "  </thead>\n",
       "  <tbody>\n",
       "    <tr>\n",
       "      <th>0</th>\n",
       "      <td>101</td>\n",
       "      <td>234</td>\n",
       "      <td>23</td>\n",
       "      <td>345</td>\n",
       "    </tr>\n",
       "    <tr>\n",
       "      <th>1</th>\n",
       "      <td>102</td>\n",
       "      <td>345</td>\n",
       "      <td>34</td>\n",
       "      <td>345</td>\n",
       "    </tr>\n",
       "  </tbody>\n",
       "</table>\n",
       "</div>"
      ],
      "text/plain": [
       "   emp_id  salary  pf  house_nu\n",
       "0     101     234  23       345\n",
       "1     102     345  34       345"
      ]
     },
     "execution_count": 86,
     "metadata": {},
     "output_type": "execute_result"
    }
   ],
   "source": [
    "pd.merge(df8,df9, on= [\"emp_id\", \"salary\"])"
   ]
  },
  {
   "cell_type": "code",
   "execution_count": 97,
   "id": "af649ee2",
   "metadata": {},
   "outputs": [],
   "source": [
    "data10 = {\"emp_id1\":[101,102,103,104],\n",
    "         \"salary1\":[234,345,200,400],\n",
    "         \"pf\":[23,34,56,78]\n",
    "    \n",
    "    \n",
    "}\n",
    "\n",
    "data11 = {\"emp_id2\":[101,102,104,105,123],\n",
    "        \"salary2\":[234,345,200,878,43],\n",
    "        \"house_nu\":[345,345,345,56,234]\n",
    "        }"
   ]
  },
  {
   "cell_type": "code",
   "execution_count": 98,
   "id": "e685c300",
   "metadata": {},
   "outputs": [],
   "source": [
    "df10 = pd.DataFrame(data10, index=[\"a\",\"b\",\"c\",\"d\"])"
   ]
  },
  {
   "cell_type": "code",
   "execution_count": 99,
   "id": "a45605d3",
   "metadata": {},
   "outputs": [],
   "source": [
    "df11 = pd.DataFrame(data11, index=[\"a\",\"b\",\"d\",\"e\",\"f\"])"
   ]
  },
  {
   "cell_type": "code",
   "execution_count": 100,
   "id": "867f3a05",
   "metadata": {},
   "outputs": [
    {
     "data": {
      "text/html": [
       "<div>\n",
       "<style scoped>\n",
       "    .dataframe tbody tr th:only-of-type {\n",
       "        vertical-align: middle;\n",
       "    }\n",
       "\n",
       "    .dataframe tbody tr th {\n",
       "        vertical-align: top;\n",
       "    }\n",
       "\n",
       "    .dataframe thead th {\n",
       "        text-align: right;\n",
       "    }\n",
       "</style>\n",
       "<table border=\"1\" class=\"dataframe\">\n",
       "  <thead>\n",
       "    <tr style=\"text-align: right;\">\n",
       "      <th></th>\n",
       "      <th>emp_id1</th>\n",
       "      <th>salary1</th>\n",
       "      <th>pf</th>\n",
       "    </tr>\n",
       "  </thead>\n",
       "  <tbody>\n",
       "    <tr>\n",
       "      <th>a</th>\n",
       "      <td>101</td>\n",
       "      <td>234</td>\n",
       "      <td>23</td>\n",
       "    </tr>\n",
       "    <tr>\n",
       "      <th>b</th>\n",
       "      <td>102</td>\n",
       "      <td>345</td>\n",
       "      <td>34</td>\n",
       "    </tr>\n",
       "    <tr>\n",
       "      <th>c</th>\n",
       "      <td>103</td>\n",
       "      <td>200</td>\n",
       "      <td>56</td>\n",
       "    </tr>\n",
       "    <tr>\n",
       "      <th>d</th>\n",
       "      <td>104</td>\n",
       "      <td>400</td>\n",
       "      <td>78</td>\n",
       "    </tr>\n",
       "  </tbody>\n",
       "</table>\n",
       "</div>"
      ],
      "text/plain": [
       "   emp_id1  salary1  pf\n",
       "a      101      234  23\n",
       "b      102      345  34\n",
       "c      103      200  56\n",
       "d      104      400  78"
      ]
     },
     "execution_count": 100,
     "metadata": {},
     "output_type": "execute_result"
    }
   ],
   "source": [
    "df10"
   ]
  },
  {
   "cell_type": "code",
   "execution_count": 101,
   "id": "aac6fa5b",
   "metadata": {},
   "outputs": [
    {
     "data": {
      "text/html": [
       "<div>\n",
       "<style scoped>\n",
       "    .dataframe tbody tr th:only-of-type {\n",
       "        vertical-align: middle;\n",
       "    }\n",
       "\n",
       "    .dataframe tbody tr th {\n",
       "        vertical-align: top;\n",
       "    }\n",
       "\n",
       "    .dataframe thead th {\n",
       "        text-align: right;\n",
       "    }\n",
       "</style>\n",
       "<table border=\"1\" class=\"dataframe\">\n",
       "  <thead>\n",
       "    <tr style=\"text-align: right;\">\n",
       "      <th></th>\n",
       "      <th>emp_id2</th>\n",
       "      <th>salary2</th>\n",
       "      <th>house_nu</th>\n",
       "    </tr>\n",
       "  </thead>\n",
       "  <tbody>\n",
       "    <tr>\n",
       "      <th>a</th>\n",
       "      <td>101</td>\n",
       "      <td>234</td>\n",
       "      <td>345</td>\n",
       "    </tr>\n",
       "    <tr>\n",
       "      <th>b</th>\n",
       "      <td>102</td>\n",
       "      <td>345</td>\n",
       "      <td>345</td>\n",
       "    </tr>\n",
       "    <tr>\n",
       "      <th>d</th>\n",
       "      <td>104</td>\n",
       "      <td>200</td>\n",
       "      <td>345</td>\n",
       "    </tr>\n",
       "    <tr>\n",
       "      <th>e</th>\n",
       "      <td>105</td>\n",
       "      <td>878</td>\n",
       "      <td>56</td>\n",
       "    </tr>\n",
       "    <tr>\n",
       "      <th>f</th>\n",
       "      <td>123</td>\n",
       "      <td>43</td>\n",
       "      <td>234</td>\n",
       "    </tr>\n",
       "  </tbody>\n",
       "</table>\n",
       "</div>"
      ],
      "text/plain": [
       "   emp_id2  salary2  house_nu\n",
       "a      101      234       345\n",
       "b      102      345       345\n",
       "d      104      200       345\n",
       "e      105      878        56\n",
       "f      123       43       234"
      ]
     },
     "execution_count": 101,
     "metadata": {},
     "output_type": "execute_result"
    }
   ],
   "source": [
    "df11"
   ]
  },
  {
   "cell_type": "code",
   "execution_count": 102,
   "id": "ba0e61c4",
   "metadata": {},
   "outputs": [
    {
     "data": {
      "text/html": [
       "<div>\n",
       "<style scoped>\n",
       "    .dataframe tbody tr th:only-of-type {\n",
       "        vertical-align: middle;\n",
       "    }\n",
       "\n",
       "    .dataframe tbody tr th {\n",
       "        vertical-align: top;\n",
       "    }\n",
       "\n",
       "    .dataframe thead th {\n",
       "        text-align: right;\n",
       "    }\n",
       "</style>\n",
       "<table border=\"1\" class=\"dataframe\">\n",
       "  <thead>\n",
       "    <tr style=\"text-align: right;\">\n",
       "      <th></th>\n",
       "      <th>emp_id1</th>\n",
       "      <th>salary1</th>\n",
       "      <th>pf</th>\n",
       "      <th>emp_id2</th>\n",
       "      <th>salary2</th>\n",
       "      <th>house_nu</th>\n",
       "    </tr>\n",
       "  </thead>\n",
       "  <tbody>\n",
       "    <tr>\n",
       "      <th>a</th>\n",
       "      <td>101</td>\n",
       "      <td>234</td>\n",
       "      <td>23</td>\n",
       "      <td>101.0</td>\n",
       "      <td>234.0</td>\n",
       "      <td>345.0</td>\n",
       "    </tr>\n",
       "    <tr>\n",
       "      <th>b</th>\n",
       "      <td>102</td>\n",
       "      <td>345</td>\n",
       "      <td>34</td>\n",
       "      <td>102.0</td>\n",
       "      <td>345.0</td>\n",
       "      <td>345.0</td>\n",
       "    </tr>\n",
       "    <tr>\n",
       "      <th>c</th>\n",
       "      <td>103</td>\n",
       "      <td>200</td>\n",
       "      <td>56</td>\n",
       "      <td>NaN</td>\n",
       "      <td>NaN</td>\n",
       "      <td>NaN</td>\n",
       "    </tr>\n",
       "    <tr>\n",
       "      <th>d</th>\n",
       "      <td>104</td>\n",
       "      <td>400</td>\n",
       "      <td>78</td>\n",
       "      <td>104.0</td>\n",
       "      <td>200.0</td>\n",
       "      <td>345.0</td>\n",
       "    </tr>\n",
       "  </tbody>\n",
       "</table>\n",
       "</div>"
      ],
      "text/plain": [
       "   emp_id1  salary1  pf  emp_id2  salary2  house_nu\n",
       "a      101      234  23    101.0    234.0     345.0\n",
       "b      102      345  34    102.0    345.0     345.0\n",
       "c      103      200  56      NaN      NaN       NaN\n",
       "d      104      400  78    104.0    200.0     345.0"
      ]
     },
     "execution_count": 102,
     "metadata": {},
     "output_type": "execute_result"
    }
   ],
   "source": [
    "df10.join(df11)"
   ]
  },
  {
   "cell_type": "code",
   "execution_count": 118,
   "id": "5baa32e7",
   "metadata": {
    "scrolled": true
   },
   "outputs": [
    {
     "ename": "FileNotFoundError",
     "evalue": "[Errno 2] No such file or directory: 'sales_data_final'",
     "output_type": "error",
     "traceback": [
      "\u001b[1;31m---------------------------------------------------------------------------\u001b[0m",
      "\u001b[1;31mFileNotFoundError\u001b[0m                         Traceback (most recent call last)",
      "\u001b[1;32m~\\AppData\\Local\\Temp/ipykernel_11728/1609996176.py\u001b[0m in \u001b[0;36m<module>\u001b[1;34m\u001b[0m\n\u001b[1;32m----> 1\u001b[1;33m \u001b[0mdf_sales\u001b[0m \u001b[1;33m=\u001b[0m \u001b[0mpd\u001b[0m\u001b[1;33m.\u001b[0m\u001b[0mread_csv\u001b[0m\u001b[1;33m(\u001b[0m\u001b[1;34m\"sales_data_final\"\u001b[0m\u001b[1;33m)\u001b[0m\u001b[1;33m\u001b[0m\u001b[1;33m\u001b[0m\u001b[0m\n\u001b[0m",
      "\u001b[1;32m~\\anaconda3\\lib\\site-packages\\pandas\\util\\_decorators.py\u001b[0m in \u001b[0;36mwrapper\u001b[1;34m(*args, **kwargs)\u001b[0m\n\u001b[0;32m    309\u001b[0m                     \u001b[0mstacklevel\u001b[0m\u001b[1;33m=\u001b[0m\u001b[0mstacklevel\u001b[0m\u001b[1;33m,\u001b[0m\u001b[1;33m\u001b[0m\u001b[1;33m\u001b[0m\u001b[0m\n\u001b[0;32m    310\u001b[0m                 )\n\u001b[1;32m--> 311\u001b[1;33m             \u001b[1;32mreturn\u001b[0m \u001b[0mfunc\u001b[0m\u001b[1;33m(\u001b[0m\u001b[1;33m*\u001b[0m\u001b[0margs\u001b[0m\u001b[1;33m,\u001b[0m \u001b[1;33m**\u001b[0m\u001b[0mkwargs\u001b[0m\u001b[1;33m)\u001b[0m\u001b[1;33m\u001b[0m\u001b[1;33m\u001b[0m\u001b[0m\n\u001b[0m\u001b[0;32m    312\u001b[0m \u001b[1;33m\u001b[0m\u001b[0m\n\u001b[0;32m    313\u001b[0m         \u001b[1;32mreturn\u001b[0m \u001b[0mwrapper\u001b[0m\u001b[1;33m\u001b[0m\u001b[1;33m\u001b[0m\u001b[0m\n",
      "\u001b[1;32m~\\anaconda3\\lib\\site-packages\\pandas\\io\\parsers\\readers.py\u001b[0m in \u001b[0;36mread_csv\u001b[1;34m(filepath_or_buffer, sep, delimiter, header, names, index_col, usecols, squeeze, prefix, mangle_dupe_cols, dtype, engine, converters, true_values, false_values, skipinitialspace, skiprows, skipfooter, nrows, na_values, keep_default_na, na_filter, verbose, skip_blank_lines, parse_dates, infer_datetime_format, keep_date_col, date_parser, dayfirst, cache_dates, iterator, chunksize, compression, thousands, decimal, lineterminator, quotechar, quoting, doublequote, escapechar, comment, encoding, encoding_errors, dialect, error_bad_lines, warn_bad_lines, on_bad_lines, delim_whitespace, low_memory, memory_map, float_precision, storage_options)\u001b[0m\n\u001b[0;32m    584\u001b[0m     \u001b[0mkwds\u001b[0m\u001b[1;33m.\u001b[0m\u001b[0mupdate\u001b[0m\u001b[1;33m(\u001b[0m\u001b[0mkwds_defaults\u001b[0m\u001b[1;33m)\u001b[0m\u001b[1;33m\u001b[0m\u001b[1;33m\u001b[0m\u001b[0m\n\u001b[0;32m    585\u001b[0m \u001b[1;33m\u001b[0m\u001b[0m\n\u001b[1;32m--> 586\u001b[1;33m     \u001b[1;32mreturn\u001b[0m \u001b[0m_read\u001b[0m\u001b[1;33m(\u001b[0m\u001b[0mfilepath_or_buffer\u001b[0m\u001b[1;33m,\u001b[0m \u001b[0mkwds\u001b[0m\u001b[1;33m)\u001b[0m\u001b[1;33m\u001b[0m\u001b[1;33m\u001b[0m\u001b[0m\n\u001b[0m\u001b[0;32m    587\u001b[0m \u001b[1;33m\u001b[0m\u001b[0m\n\u001b[0;32m    588\u001b[0m \u001b[1;33m\u001b[0m\u001b[0m\n",
      "\u001b[1;32m~\\anaconda3\\lib\\site-packages\\pandas\\io\\parsers\\readers.py\u001b[0m in \u001b[0;36m_read\u001b[1;34m(filepath_or_buffer, kwds)\u001b[0m\n\u001b[0;32m    480\u001b[0m \u001b[1;33m\u001b[0m\u001b[0m\n\u001b[0;32m    481\u001b[0m     \u001b[1;31m# Create the parser.\u001b[0m\u001b[1;33m\u001b[0m\u001b[1;33m\u001b[0m\u001b[0m\n\u001b[1;32m--> 482\u001b[1;33m     \u001b[0mparser\u001b[0m \u001b[1;33m=\u001b[0m \u001b[0mTextFileReader\u001b[0m\u001b[1;33m(\u001b[0m\u001b[0mfilepath_or_buffer\u001b[0m\u001b[1;33m,\u001b[0m \u001b[1;33m**\u001b[0m\u001b[0mkwds\u001b[0m\u001b[1;33m)\u001b[0m\u001b[1;33m\u001b[0m\u001b[1;33m\u001b[0m\u001b[0m\n\u001b[0m\u001b[0;32m    483\u001b[0m \u001b[1;33m\u001b[0m\u001b[0m\n\u001b[0;32m    484\u001b[0m     \u001b[1;32mif\u001b[0m \u001b[0mchunksize\u001b[0m \u001b[1;32mor\u001b[0m \u001b[0miterator\u001b[0m\u001b[1;33m:\u001b[0m\u001b[1;33m\u001b[0m\u001b[1;33m\u001b[0m\u001b[0m\n",
      "\u001b[1;32m~\\anaconda3\\lib\\site-packages\\pandas\\io\\parsers\\readers.py\u001b[0m in \u001b[0;36m__init__\u001b[1;34m(self, f, engine, **kwds)\u001b[0m\n\u001b[0;32m    809\u001b[0m             \u001b[0mself\u001b[0m\u001b[1;33m.\u001b[0m\u001b[0moptions\u001b[0m\u001b[1;33m[\u001b[0m\u001b[1;34m\"has_index_names\"\u001b[0m\u001b[1;33m]\u001b[0m \u001b[1;33m=\u001b[0m \u001b[0mkwds\u001b[0m\u001b[1;33m[\u001b[0m\u001b[1;34m\"has_index_names\"\u001b[0m\u001b[1;33m]\u001b[0m\u001b[1;33m\u001b[0m\u001b[1;33m\u001b[0m\u001b[0m\n\u001b[0;32m    810\u001b[0m \u001b[1;33m\u001b[0m\u001b[0m\n\u001b[1;32m--> 811\u001b[1;33m         \u001b[0mself\u001b[0m\u001b[1;33m.\u001b[0m\u001b[0m_engine\u001b[0m \u001b[1;33m=\u001b[0m \u001b[0mself\u001b[0m\u001b[1;33m.\u001b[0m\u001b[0m_make_engine\u001b[0m\u001b[1;33m(\u001b[0m\u001b[0mself\u001b[0m\u001b[1;33m.\u001b[0m\u001b[0mengine\u001b[0m\u001b[1;33m)\u001b[0m\u001b[1;33m\u001b[0m\u001b[1;33m\u001b[0m\u001b[0m\n\u001b[0m\u001b[0;32m    812\u001b[0m \u001b[1;33m\u001b[0m\u001b[0m\n\u001b[0;32m    813\u001b[0m     \u001b[1;32mdef\u001b[0m \u001b[0mclose\u001b[0m\u001b[1;33m(\u001b[0m\u001b[0mself\u001b[0m\u001b[1;33m)\u001b[0m\u001b[1;33m:\u001b[0m\u001b[1;33m\u001b[0m\u001b[1;33m\u001b[0m\u001b[0m\n",
      "\u001b[1;32m~\\anaconda3\\lib\\site-packages\\pandas\\io\\parsers\\readers.py\u001b[0m in \u001b[0;36m_make_engine\u001b[1;34m(self, engine)\u001b[0m\n\u001b[0;32m   1038\u001b[0m             )\n\u001b[0;32m   1039\u001b[0m         \u001b[1;31m# error: Too many arguments for \"ParserBase\"\u001b[0m\u001b[1;33m\u001b[0m\u001b[1;33m\u001b[0m\u001b[0m\n\u001b[1;32m-> 1040\u001b[1;33m         \u001b[1;32mreturn\u001b[0m \u001b[0mmapping\u001b[0m\u001b[1;33m[\u001b[0m\u001b[0mengine\u001b[0m\u001b[1;33m]\u001b[0m\u001b[1;33m(\u001b[0m\u001b[0mself\u001b[0m\u001b[1;33m.\u001b[0m\u001b[0mf\u001b[0m\u001b[1;33m,\u001b[0m \u001b[1;33m**\u001b[0m\u001b[0mself\u001b[0m\u001b[1;33m.\u001b[0m\u001b[0moptions\u001b[0m\u001b[1;33m)\u001b[0m  \u001b[1;31m# type: ignore[call-arg]\u001b[0m\u001b[1;33m\u001b[0m\u001b[1;33m\u001b[0m\u001b[0m\n\u001b[0m\u001b[0;32m   1041\u001b[0m \u001b[1;33m\u001b[0m\u001b[0m\n\u001b[0;32m   1042\u001b[0m     \u001b[1;32mdef\u001b[0m \u001b[0m_failover_to_python\u001b[0m\u001b[1;33m(\u001b[0m\u001b[0mself\u001b[0m\u001b[1;33m)\u001b[0m\u001b[1;33m:\u001b[0m\u001b[1;33m\u001b[0m\u001b[1;33m\u001b[0m\u001b[0m\n",
      "\u001b[1;32m~\\anaconda3\\lib\\site-packages\\pandas\\io\\parsers\\c_parser_wrapper.py\u001b[0m in \u001b[0;36m__init__\u001b[1;34m(self, src, **kwds)\u001b[0m\n\u001b[0;32m     49\u001b[0m \u001b[1;33m\u001b[0m\u001b[0m\n\u001b[0;32m     50\u001b[0m         \u001b[1;31m# open handles\u001b[0m\u001b[1;33m\u001b[0m\u001b[1;33m\u001b[0m\u001b[0m\n\u001b[1;32m---> 51\u001b[1;33m         \u001b[0mself\u001b[0m\u001b[1;33m.\u001b[0m\u001b[0m_open_handles\u001b[0m\u001b[1;33m(\u001b[0m\u001b[0msrc\u001b[0m\u001b[1;33m,\u001b[0m \u001b[0mkwds\u001b[0m\u001b[1;33m)\u001b[0m\u001b[1;33m\u001b[0m\u001b[1;33m\u001b[0m\u001b[0m\n\u001b[0m\u001b[0;32m     52\u001b[0m         \u001b[1;32massert\u001b[0m \u001b[0mself\u001b[0m\u001b[1;33m.\u001b[0m\u001b[0mhandles\u001b[0m \u001b[1;32mis\u001b[0m \u001b[1;32mnot\u001b[0m \u001b[1;32mNone\u001b[0m\u001b[1;33m\u001b[0m\u001b[1;33m\u001b[0m\u001b[0m\n\u001b[0;32m     53\u001b[0m \u001b[1;33m\u001b[0m\u001b[0m\n",
      "\u001b[1;32m~\\anaconda3\\lib\\site-packages\\pandas\\io\\parsers\\base_parser.py\u001b[0m in \u001b[0;36m_open_handles\u001b[1;34m(self, src, kwds)\u001b[0m\n\u001b[0;32m    220\u001b[0m         \u001b[0mLet\u001b[0m \u001b[0mthe\u001b[0m \u001b[0mreaders\u001b[0m \u001b[0mopen\u001b[0m \u001b[0mIOHandles\u001b[0m \u001b[0mafter\u001b[0m \u001b[0mthey\u001b[0m \u001b[0mare\u001b[0m \u001b[0mdone\u001b[0m \u001b[1;32mwith\u001b[0m \u001b[0mtheir\u001b[0m \u001b[0mpotential\u001b[0m \u001b[0mraises\u001b[0m\u001b[1;33m.\u001b[0m\u001b[1;33m\u001b[0m\u001b[1;33m\u001b[0m\u001b[0m\n\u001b[0;32m    221\u001b[0m         \"\"\"\n\u001b[1;32m--> 222\u001b[1;33m         self.handles = get_handle(\n\u001b[0m\u001b[0;32m    223\u001b[0m             \u001b[0msrc\u001b[0m\u001b[1;33m,\u001b[0m\u001b[1;33m\u001b[0m\u001b[1;33m\u001b[0m\u001b[0m\n\u001b[0;32m    224\u001b[0m             \u001b[1;34m\"r\"\u001b[0m\u001b[1;33m,\u001b[0m\u001b[1;33m\u001b[0m\u001b[1;33m\u001b[0m\u001b[0m\n",
      "\u001b[1;32m~\\anaconda3\\lib\\site-packages\\pandas\\io\\common.py\u001b[0m in \u001b[0;36mget_handle\u001b[1;34m(path_or_buf, mode, encoding, compression, memory_map, is_text, errors, storage_options)\u001b[0m\n\u001b[0;32m    700\u001b[0m         \u001b[1;32mif\u001b[0m \u001b[0mioargs\u001b[0m\u001b[1;33m.\u001b[0m\u001b[0mencoding\u001b[0m \u001b[1;32mand\u001b[0m \u001b[1;34m\"b\"\u001b[0m \u001b[1;32mnot\u001b[0m \u001b[1;32min\u001b[0m \u001b[0mioargs\u001b[0m\u001b[1;33m.\u001b[0m\u001b[0mmode\u001b[0m\u001b[1;33m:\u001b[0m\u001b[1;33m\u001b[0m\u001b[1;33m\u001b[0m\u001b[0m\n\u001b[0;32m    701\u001b[0m             \u001b[1;31m# Encoding\u001b[0m\u001b[1;33m\u001b[0m\u001b[1;33m\u001b[0m\u001b[0m\n\u001b[1;32m--> 702\u001b[1;33m             handle = open(\n\u001b[0m\u001b[0;32m    703\u001b[0m                 \u001b[0mhandle\u001b[0m\u001b[1;33m,\u001b[0m\u001b[1;33m\u001b[0m\u001b[1;33m\u001b[0m\u001b[0m\n\u001b[0;32m    704\u001b[0m                 \u001b[0mioargs\u001b[0m\u001b[1;33m.\u001b[0m\u001b[0mmode\u001b[0m\u001b[1;33m,\u001b[0m\u001b[1;33m\u001b[0m\u001b[1;33m\u001b[0m\u001b[0m\n",
      "\u001b[1;31mFileNotFoundError\u001b[0m: [Errno 2] No such file or directory: 'sales_data_final'"
     ]
    }
   ],
   "source": [
    "df_sales = pd.read_csv(\"sales_data_final\")"
   ]
  },
  {
   "cell_type": "code",
   "execution_count": 119,
   "id": "39d29912",
   "metadata": {},
   "outputs": [],
   "source": [
    "import numpy as np"
   ]
  },
  {
   "cell_type": "code",
   "execution_count": 120,
   "id": "d29e248a",
   "metadata": {},
   "outputs": [
    {
     "data": {
      "text/plain": [
       "array([1, 2, 3, 4, 5, 6])"
      ]
     },
     "execution_count": 120,
     "metadata": {},
     "output_type": "execute_result"
    }
   ],
   "source": [
    "np.array([1,2,3,4,5,6])"
   ]
  },
  {
   "cell_type": "code",
   "execution_count": 121,
   "id": "d6732cf2",
   "metadata": {},
   "outputs": [
    {
     "data": {
      "text/plain": [
       "numpy.ndarray"
      ]
     },
     "execution_count": 121,
     "metadata": {},
     "output_type": "execute_result"
    }
   ],
   "source": [
    "type(np.array([1,2,3,4,5,6]))"
   ]
  },
  {
   "cell_type": "code",
   "execution_count": 123,
   "id": "2ee68cc0",
   "metadata": {},
   "outputs": [
    {
     "data": {
      "text/plain": [
       "array([[1, 2, 3],\n",
       "       [4, 5, 6]])"
      ]
     },
     "execution_count": 123,
     "metadata": {},
     "output_type": "execute_result"
    }
   ],
   "source": [
    "np.array([[1,2,3],[4,5,6]])"
   ]
  },
  {
   "cell_type": "code",
   "execution_count": 124,
   "id": "d4c05c15",
   "metadata": {},
   "outputs": [
    {
     "data": {
      "text/plain": [
       "array([[1, 2, 3, 4],\n",
       "       [2, 3, 4, 5]])"
      ]
     },
     "execution_count": 124,
     "metadata": {},
     "output_type": "execute_result"
    }
   ],
   "source": [
    "np.array([[1,2,3,4],[2,3,4,5]])"
   ]
  },
  {
   "cell_type": "code",
   "execution_count": 125,
   "id": "89ea5bc6",
   "metadata": {},
   "outputs": [],
   "source": [
    "l= [1,2,3,4],[2,3,4,5]"
   ]
  },
  {
   "cell_type": "code",
   "execution_count": 126,
   "id": "a26df276",
   "metadata": {},
   "outputs": [
    {
     "data": {
      "text/plain": [
       "1"
      ]
     },
     "execution_count": 126,
     "metadata": {},
     "output_type": "execute_result"
    }
   ],
   "source": [
    "l[0][0]"
   ]
  },
  {
   "cell_type": "code",
   "execution_count": 130,
   "id": "55ab6b30",
   "metadata": {},
   "outputs": [],
   "source": [
    "a= np.array([3,4,5,6], ndmin=5)"
   ]
  },
  {
   "cell_type": "code",
   "execution_count": 131,
   "id": "f98cd4d4",
   "metadata": {},
   "outputs": [
    {
     "data": {
      "text/plain": [
       "array([[[[[3, 4, 5, 6]]]]])"
      ]
     },
     "execution_count": 131,
     "metadata": {},
     "output_type": "execute_result"
    }
   ],
   "source": [
    "a"
   ]
  },
  {
   "cell_type": "code",
   "execution_count": 132,
   "id": "d640e19f",
   "metadata": {},
   "outputs": [],
   "source": [
    "arr = np.array([[1,2,3],[4,5,6],[7,8,9]])"
   ]
  },
  {
   "cell_type": "code",
   "execution_count": 133,
   "id": "0443cfe7",
   "metadata": {},
   "outputs": [
    {
     "data": {
      "text/plain": [
       "array([[1, 2, 3],\n",
       "       [4, 5, 6],\n",
       "       [7, 8, 9]])"
      ]
     },
     "execution_count": 133,
     "metadata": {},
     "output_type": "execute_result"
    }
   ],
   "source": [
    "arr"
   ]
  },
  {
   "cell_type": "code",
   "execution_count": 134,
   "id": "205a50e6",
   "metadata": {},
   "outputs": [
    {
     "data": {
      "text/plain": [
       "2"
      ]
     },
     "execution_count": 134,
     "metadata": {},
     "output_type": "execute_result"
    }
   ],
   "source": [
    "arr.ndim"
   ]
  },
  {
   "cell_type": "code",
   "execution_count": 136,
   "id": "2a5fe0bb",
   "metadata": {},
   "outputs": [
    {
     "data": {
      "text/plain": [
       "array([[[4, 2],\n",
       "        [4, 2],\n",
       "        [6, 7],\n",
       "        [1, 9]],\n",
       "\n",
       "       [[2, 3],\n",
       "        [1, 9],\n",
       "        [8, 1],\n",
       "        [3, 6]],\n",
       "\n",
       "       [[1, 6],\n",
       "        [1, 6],\n",
       "        [7, 4],\n",
       "        [5, 8]],\n",
       "\n",
       "       [[8, 5],\n",
       "        [1, 6],\n",
       "        [7, 1],\n",
       "        [2, 2]]])"
      ]
     },
     "execution_count": 136,
     "metadata": {},
     "output_type": "execute_result"
    }
   ],
   "source": [
    "np.random.randint(1,10,(4,4,2))"
   ]
  },
  {
   "cell_type": "code",
   "execution_count": 137,
   "id": "e651ef60",
   "metadata": {},
   "outputs": [
    {
     "data": {
      "text/plain": [
       "array([[5, 8, 8, 9],\n",
       "       [7, 4, 3, 7],\n",
       "       [7, 6, 5, 1],\n",
       "       [8, 4, 3, 1]])"
      ]
     },
     "execution_count": 137,
     "metadata": {},
     "output_type": "execute_result"
    }
   ],
   "source": [
    "np.random.randint(1,10,(4,4))"
   ]
  },
  {
   "cell_type": "code",
   "execution_count": 143,
   "id": "9cae360a",
   "metadata": {},
   "outputs": [],
   "source": [
    "p =np.random.randint(1,10,(25,4,4))"
   ]
  },
  {
   "cell_type": "code",
   "execution_count": 144,
   "id": "a9ae4055",
   "metadata": {},
   "outputs": [
    {
     "data": {
      "text/plain": [
       "3"
      ]
     },
     "execution_count": 144,
     "metadata": {},
     "output_type": "execute_result"
    }
   ],
   "source": [
    "p.ndim"
   ]
  },
  {
   "cell_type": "code",
   "execution_count": 145,
   "id": "aa35fbdb",
   "metadata": {},
   "outputs": [
    {
     "data": {
      "text/plain": [
       "array([[[3, 2, 3, 6],\n",
       "        [4, 2, 3, 2],\n",
       "        [6, 7, 9, 5],\n",
       "        [9, 5, 3, 7]],\n",
       "\n",
       "       [[4, 2, 1, 8],\n",
       "        [9, 6, 5, 4],\n",
       "        [5, 6, 1, 9],\n",
       "        [9, 2, 2, 8]],\n",
       "\n",
       "       [[2, 1, 6, 1],\n",
       "        [8, 2, 3, 6],\n",
       "        [6, 3, 1, 8],\n",
       "        [2, 7, 9, 7]],\n",
       "\n",
       "       [[8, 6, 4, 4],\n",
       "        [9, 7, 2, 1],\n",
       "        [2, 7, 6, 9],\n",
       "        [8, 1, 3, 2]],\n",
       "\n",
       "       [[8, 1, 2, 7],\n",
       "        [5, 2, 1, 7],\n",
       "        [1, 6, 8, 7],\n",
       "        [9, 4, 7, 6]],\n",
       "\n",
       "       [[7, 3, 9, 9],\n",
       "        [3, 5, 1, 8],\n",
       "        [5, 4, 5, 9],\n",
       "        [7, 6, 6, 3]],\n",
       "\n",
       "       [[6, 8, 2, 9],\n",
       "        [6, 7, 9, 3],\n",
       "        [8, 1, 4, 1],\n",
       "        [4, 6, 9, 3]],\n",
       "\n",
       "       [[8, 8, 3, 4],\n",
       "        [5, 3, 6, 7],\n",
       "        [8, 5, 4, 3],\n",
       "        [4, 5, 9, 5]],\n",
       "\n",
       "       [[6, 4, 7, 2],\n",
       "        [1, 8, 5, 3],\n",
       "        [5, 7, 9, 6],\n",
       "        [5, 7, 2, 1]],\n",
       "\n",
       "       [[6, 4, 4, 8],\n",
       "        [2, 1, 1, 6],\n",
       "        [2, 3, 8, 4],\n",
       "        [5, 9, 4, 9]],\n",
       "\n",
       "       [[1, 2, 5, 2],\n",
       "        [8, 5, 4, 8],\n",
       "        [7, 5, 2, 5],\n",
       "        [2, 8, 6, 3]],\n",
       "\n",
       "       [[4, 9, 5, 4],\n",
       "        [2, 7, 9, 9],\n",
       "        [3, 4, 5, 7],\n",
       "        [9, 2, 3, 7]],\n",
       "\n",
       "       [[2, 5, 4, 5],\n",
       "        [3, 9, 8, 4],\n",
       "        [4, 7, 4, 8],\n",
       "        [5, 4, 9, 2]],\n",
       "\n",
       "       [[4, 2, 1, 8],\n",
       "        [6, 6, 1, 2],\n",
       "        [6, 6, 6, 4],\n",
       "        [9, 1, 7, 1]],\n",
       "\n",
       "       [[9, 4, 1, 8],\n",
       "        [2, 8, 9, 9],\n",
       "        [2, 1, 7, 6],\n",
       "        [2, 6, 7, 3]],\n",
       "\n",
       "       [[8, 4, 9, 1],\n",
       "        [4, 9, 5, 9],\n",
       "        [1, 7, 9, 8],\n",
       "        [2, 8, 3, 5]],\n",
       "\n",
       "       [[9, 5, 7, 8],\n",
       "        [4, 8, 9, 8],\n",
       "        [3, 6, 8, 6],\n",
       "        [9, 3, 6, 1]],\n",
       "\n",
       "       [[1, 2, 3, 5],\n",
       "        [9, 6, 6, 3],\n",
       "        [3, 1, 7, 3],\n",
       "        [3, 4, 8, 8]],\n",
       "\n",
       "       [[3, 1, 1, 4],\n",
       "        [3, 3, 5, 7],\n",
       "        [2, 5, 1, 9],\n",
       "        [6, 2, 8, 1]],\n",
       "\n",
       "       [[6, 6, 6, 1],\n",
       "        [3, 4, 6, 4],\n",
       "        [1, 9, 5, 5],\n",
       "        [5, 8, 8, 1]],\n",
       "\n",
       "       [[1, 6, 6, 5],\n",
       "        [6, 7, 1, 4],\n",
       "        [5, 3, 4, 9],\n",
       "        [4, 2, 1, 9]],\n",
       "\n",
       "       [[2, 3, 9, 9],\n",
       "        [9, 9, 6, 7],\n",
       "        [3, 5, 5, 4],\n",
       "        [8, 9, 7, 5]],\n",
       "\n",
       "       [[3, 5, 9, 3],\n",
       "        [4, 1, 1, 9],\n",
       "        [5, 3, 4, 3],\n",
       "        [2, 9, 1, 8]],\n",
       "\n",
       "       [[4, 6, 4, 4],\n",
       "        [1, 6, 4, 6],\n",
       "        [4, 5, 7, 8],\n",
       "        [8, 6, 5, 1]],\n",
       "\n",
       "       [[4, 1, 4, 1],\n",
       "        [7, 8, 5, 9],\n",
       "        [9, 9, 8, 5],\n",
       "        [8, 2, 5, 2]]])"
      ]
     },
     "execution_count": 145,
     "metadata": {},
     "output_type": "execute_result"
    }
   ],
   "source": [
    "p"
   ]
  },
  {
   "cell_type": "code",
   "execution_count": null,
   "id": "b1bde224",
   "metadata": {},
   "outputs": [],
   "source": []
  }
 ],
 "metadata": {
  "kernelspec": {
   "display_name": "Python 3 (ipykernel)",
   "language": "python",
   "name": "python3"
  },
  "language_info": {
   "codemirror_mode": {
    "name": "ipython",
    "version": 3
   },
   "file_extension": ".py",
   "mimetype": "text/x-python",
   "name": "python",
   "nbconvert_exporter": "python",
   "pygments_lexer": "ipython3",
   "version": "3.9.7"
  }
 },
 "nbformat": 4,
 "nbformat_minor": 5
}
