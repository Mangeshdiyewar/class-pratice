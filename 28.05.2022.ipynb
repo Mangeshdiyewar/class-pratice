{
 "cells": [
  {
   "cell_type": "code",
   "execution_count": 6,
   "id": "cbc44d9b",
   "metadata": {},
   "outputs": [
    {
     "name": "stdout",
     "output_type": "stream",
     "text": [
      "paragraph\n",
      "  @media print {\n",
      "    .ms-editor-squiggles-container {\n",
      "      display:none !important;\n",
      "    }\n",
      "  }\n",
      "  .ms-editor-squiggles-container {\n",
      "    all: initial;\n",
      "  }India, officially the Republic of India (Hindi: Bhārat Gaṇarājya),[26] is a country in South Asia. It is the seventh-largest country by area, the second-most populous country, and the most populous democracy in the world. Bounded by the Indian Ocean on the south, the Arabian Sea on the southwest, and the Bay of Bengal on the southeast, it shares land borders with Pakistan to the west;[f] China, Nepal, and Bhutan to the north; and Bangladesh and Myanmar to the east. In the Indian Ocean, India is in the vicinity of Sri Lanka and the Maldives; its Andaman and Nicobar Islands share a maritime border with Thailand, Myanmar and Indonesia.\n"
     ]
    }
   ],
   "source": [
    "s=input(\"paragraph\")"
   ]
  },
  {
   "cell_type": "code",
   "execution_count": 19,
   "id": "ef12c84e",
   "metadata": {},
   "outputs": [
    {
     "data": {
      "text/plain": [
       "['India,',\n",
       " 'officially',\n",
       " 'the',\n",
       " 'Republic',\n",
       " 'of',\n",
       " 'India',\n",
       " '(Hindi:',\n",
       " 'Bhārat',\n",
       " 'Gaṇarājya),[26]',\n",
       " 'is',\n",
       " 'a',\n",
       " 'country',\n",
       " 'in',\n",
       " 'South',\n",
       " 'Asia.',\n",
       " 'It',\n",
       " 'is',\n",
       " 'the',\n",
       " 'seventh-largest',\n",
       " 'country',\n",
       " 'by',\n",
       " 'area,',\n",
       " 'the',\n",
       " 'second-most',\n",
       " 'populous',\n",
       " 'country,',\n",
       " 'and',\n",
       " 'the',\n",
       " 'most',\n",
       " 'populous',\n",
       " 'democracy',\n",
       " 'in',\n",
       " 'the',\n",
       " 'world.',\n",
       " 'Bounded',\n",
       " 'by',\n",
       " 'the',\n",
       " 'Indian',\n",
       " 'Ocean',\n",
       " 'on',\n",
       " 'the',\n",
       " 'south,',\n",
       " 'the',\n",
       " 'Arabian',\n",
       " 'Sea',\n",
       " 'on',\n",
       " 'the',\n",
       " 'southwest,',\n",
       " 'and',\n",
       " 'the',\n",
       " 'Bay',\n",
       " 'of',\n",
       " 'Bengal',\n",
       " 'on',\n",
       " 'the',\n",
       " 'southeast,',\n",
       " 'it',\n",
       " 'shares',\n",
       " 'land',\n",
       " 'borders',\n",
       " 'with',\n",
       " 'Pakistan',\n",
       " 'to',\n",
       " 'the',\n",
       " 'west;[f]',\n",
       " 'China,',\n",
       " 'Nepal,',\n",
       " 'and',\n",
       " 'Bhutan',\n",
       " 'to',\n",
       " 'the',\n",
       " 'north;',\n",
       " 'and',\n",
       " 'Bangladesh',\n",
       " 'and',\n",
       " 'Myanmar',\n",
       " 'to',\n",
       " 'the',\n",
       " 'east.',\n",
       " 'In',\n",
       " 'the',\n",
       " 'Indian',\n",
       " 'Ocean,',\n",
       " 'India',\n",
       " 'is',\n",
       " 'in',\n",
       " 'the',\n",
       " 'vicinity',\n",
       " 'of',\n",
       " 'Sri',\n",
       " 'Lanka',\n",
       " 'and',\n",
       " 'the',\n",
       " 'Maldives;',\n",
       " 'its',\n",
       " 'Andaman',\n",
       " 'and',\n",
       " 'Nicobar',\n",
       " 'Islands',\n",
       " 'share',\n",
       " 'a',\n",
       " 'maritime',\n",
       " 'border',\n",
       " 'with',\n",
       " 'Thailand,',\n",
       " 'Myanmar',\n",
       " 'and',\n",
       " 'Indonesia.']"
      ]
     },
     "execution_count": 19,
     "metadata": {},
     "output_type": "execute_result"
    }
   ],
   "source": [
    "s"
   ]
  },
  {
   "cell_type": "code",
   "execution_count": 18,
   "id": "1d5c67c2",
   "metadata": {},
   "outputs": [
    {
     "ename": "AttributeError",
     "evalue": "'list' object has no attribute 'split'",
     "output_type": "error",
     "traceback": [
      "\u001b[1;31m---------------------------------------------------------------------------\u001b[0m",
      "\u001b[1;31mAttributeError\u001b[0m                            Traceback (most recent call last)",
      "\u001b[1;32m~\\AppData\\Local\\Temp/ipykernel_12672/3555875841.py\u001b[0m in \u001b[0;36m<module>\u001b[1;34m\u001b[0m\n\u001b[1;32m----> 1\u001b[1;33m \u001b[0ms\u001b[0m\u001b[1;33m=\u001b[0m\u001b[0ms\u001b[0m\u001b[1;33m.\u001b[0m\u001b[0msplit\u001b[0m\u001b[1;33m(\u001b[0m\u001b[1;34m' '\u001b[0m\u001b[1;33m)\u001b[0m\u001b[1;33m\u001b[0m\u001b[1;33m\u001b[0m\u001b[0m\n\u001b[0m",
      "\u001b[1;31mAttributeError\u001b[0m: 'list' object has no attribute 'split'"
     ]
    }
   ],
   "source": [
    "s=s.split(' ')"
   ]
  },
  {
   "cell_type": "code",
   "execution_count": 21,
   "id": "56d7775b",
   "metadata": {},
   "outputs": [],
   "source": [
    "for i in s:\n",
    "    if i==\"''\":\n",
    "        s.remove(i)\n",
    "        print(i)\n",
    "    "
   ]
  },
  {
   "cell_type": "code",
   "execution_count": 27,
   "id": "4bda51f8",
   "metadata": {},
   "outputs": [
    {
     "ename": "SyntaxError",
     "evalue": "invalid syntax (Temp/ipykernel_12672/3060438591.py, line 1)",
     "output_type": "error",
     "traceback": [
      "\u001b[1;36m  File \u001b[1;32m\"C:\\Users\\Mangesh\\AppData\\Local\\Temp/ipykernel_12672/3060438591.py\"\u001b[1;36m, line \u001b[1;32m1\u001b[0m\n\u001b[1;33m    s= set{s}\u001b[0m\n\u001b[1;37m          ^\u001b[0m\n\u001b[1;31mSyntaxError\u001b[0m\u001b[1;31m:\u001b[0m invalid syntax\n"
     ]
    }
   ],
   "source": [
    "s= set{s}"
   ]
  },
  {
   "cell_type": "code",
   "execution_count": 25,
   "id": "e0d729ec",
   "metadata": {},
   "outputs": [
    {
     "data": {
      "text/plain": [
       "set[['India,', 'officially', 'the', 'Republic', 'of', 'India', '(Hindi:', 'Bhārat', 'Gaṇarājya),[26]', 'is', 'a', 'country', 'in', 'South', 'Asia.', 'It', 'is', 'the', 'seventh-largest', 'country', 'by', 'area,', 'the', 'second-most', 'populous', 'country,', 'and', 'the', 'most', 'populous', 'democracy', 'in', 'the', 'world.', 'Bounded', 'by', 'the', 'Indian', 'Ocean', 'on', 'the', 'south,', 'the', 'Arabian', 'Sea', 'on', 'the', 'southwest,', 'and', 'the', 'Bay', 'of', 'Bengal', 'on', 'the', 'southeast,', 'it', 'shares', 'land', 'borders', 'with', 'Pakistan', 'to', 'the', 'west;[f]', 'China,', 'Nepal,', 'and', 'Bhutan', 'to', 'the', 'north;', 'and', 'Bangladesh', 'and', 'Myanmar', 'to', 'the', 'east.', 'In', 'the', 'Indian', 'Ocean,', 'India', 'is', 'in', 'the', 'vicinity', 'of', 'Sri', 'Lanka', 'and', 'the', 'Maldives;', 'its', 'Andaman', 'and', 'Nicobar', 'Islands', 'share', 'a', 'maritime', 'border', 'with', 'Thailand,', 'Myanmar', 'and', 'Indonesia.']]"
      ]
     },
     "execution_count": 25,
     "metadata": {},
     "output_type": "execute_result"
    }
   ],
   "source": [
    "s"
   ]
  },
  {
   "cell_type": "code",
   "execution_count": 28,
   "id": "02ae9fab",
   "metadata": {},
   "outputs": [
    {
     "name": "stdout",
     "output_type": "stream",
     "text": [
      "entrr paragraph\n",
      "  @media print {\n",
      "    .ms-editor-squiggles-container {\n",
      "      display:none !important;\n",
      "    }\n",
      "  }\n",
      "  .ms-editor-squiggles-container {\n",
      "    all: initial;\n",
      "  }India, officially the Republic of India (Hindi: Bhārat Gaṇarājya),[26] is a country in South Asia. It is the seventh-largest country by area, the second-most populous country, and the most populous democracy in the world. Bounded by the Indian Ocean on the south, the Arabian Sea on the southwest, and the Bay of Bengal on the southeast, it shares land borders with Pakistan to the west;[f] China, Nepal, and Bhutan to the north; and Bangladesh and Myanmar to the east. In the Indian Ocean, India is in the vicinity of Sri Lanka and the Maldives; its Andaman and Nicobar Islands share a maritime border with Thailand, Myanmar and Indonesia.\n"
     ]
    }
   ],
   "source": [
    "s= input(\"entrr paragraph\")"
   ]
  },
  {
   "cell_type": "code",
   "execution_count": 29,
   "id": "3ad53049",
   "metadata": {},
   "outputs": [
    {
     "data": {
      "text/plain": [
       "'India, officially the Republic of India (Hindi: Bhārat Gaṇarājya),[26] is a country in South Asia. It is the seventh-largest country by area, the second-most populous country, and the most populous democracy in the world. Bounded by the Indian Ocean on the south, the Arabian Sea on the southwest, and the Bay of Bengal on the southeast, it shares land borders with Pakistan to the west;[f] China, Nepal, and Bhutan to the north; and Bangladesh and Myanmar to the east. In the Indian Ocean, India is in the vicinity of Sri Lanka and the Maldives; its Andaman and Nicobar Islands share a maritime border with Thailand, Myanmar and Indonesia.'"
      ]
     },
     "execution_count": 29,
     "metadata": {},
     "output_type": "execute_result"
    }
   ],
   "source": [
    "s"
   ]
  },
  {
   "cell_type": "code",
   "execution_count": 33,
   "id": "b3aa7185",
   "metadata": {},
   "outputs": [],
   "source": [
    "s=s.split(' ')"
   ]
  },
  {
   "cell_type": "code",
   "execution_count": 35,
   "id": "7ae07694",
   "metadata": {},
   "outputs": [],
   "source": [
    "s=set(s)"
   ]
  },
  {
   "cell_type": "code",
   "execution_count": 36,
   "id": "ef89861b",
   "metadata": {},
   "outputs": [
    {
     "data": {
      "text/plain": [
       "{'(Hindi:',\n",
       " 'Andaman',\n",
       " 'Arabian',\n",
       " 'Asia.',\n",
       " 'Bangladesh',\n",
       " 'Bay',\n",
       " 'Bengal',\n",
       " 'Bhutan',\n",
       " 'Bhārat',\n",
       " 'Bounded',\n",
       " 'China,',\n",
       " 'Gaṇarājya),[26]',\n",
       " 'In',\n",
       " 'India',\n",
       " 'India,',\n",
       " 'Indian',\n",
       " 'Indonesia.',\n",
       " 'Islands',\n",
       " 'It',\n",
       " 'Lanka',\n",
       " 'Maldives;',\n",
       " 'Myanmar',\n",
       " 'Nepal,',\n",
       " 'Nicobar',\n",
       " 'Ocean',\n",
       " 'Ocean,',\n",
       " 'Pakistan',\n",
       " 'Republic',\n",
       " 'Sea',\n",
       " 'South',\n",
       " 'Sri',\n",
       " 'Thailand,',\n",
       " 'a',\n",
       " 'and',\n",
       " 'area,',\n",
       " 'border',\n",
       " 'borders',\n",
       " 'by',\n",
       " 'country',\n",
       " 'country,',\n",
       " 'democracy',\n",
       " 'east.',\n",
       " 'in',\n",
       " 'is',\n",
       " 'it',\n",
       " 'its',\n",
       " 'land',\n",
       " 'maritime',\n",
       " 'most',\n",
       " 'north;',\n",
       " 'of',\n",
       " 'officially',\n",
       " 'on',\n",
       " 'populous',\n",
       " 'second-most',\n",
       " 'seventh-largest',\n",
       " 'share',\n",
       " 'shares',\n",
       " 'south,',\n",
       " 'southeast,',\n",
       " 'southwest,',\n",
       " 'the',\n",
       " 'to',\n",
       " 'vicinity',\n",
       " 'west;[f]',\n",
       " 'with',\n",
       " 'world.'}"
      ]
     },
     "execution_count": 36,
     "metadata": {},
     "output_type": "execute_result"
    }
   ],
   "source": [
    "s"
   ]
  },
  {
   "cell_type": "code",
   "execution_count": 37,
   "id": "2dd264a7",
   "metadata": {},
   "outputs": [],
   "source": [
    "k={}\n",
    "for i in s:\n",
    "    k[i]=\"mangesh\"\n",
    "    "
   ]
  },
  {
   "cell_type": "code",
   "execution_count": 43,
   "id": "1dc2f3d0",
   "metadata": {},
   "outputs": [
    {
     "name": "stdout",
     "output_type": "stream",
     "text": [
      "tuplelist: ('mangesh', 'mangesh', 'mangesh', 'mangesh', 'mangesh', 'mangesh', 'mangesh', 'mangesh', 'mangesh', 'mangesh', 'mangesh', 'mangesh', 'mangesh', 'mangesh', 'mangesh', 'mangesh', 'mangesh', 'mangesh', 'mangesh', 'mangesh', 'mangesh', 'mangesh', 'mangesh', 'mangesh', 'mangesh', 'mangesh', 'mangesh', 'mangesh', 'mangesh', 'mangesh', 'mangesh', 'mangesh', 'mangesh', 'mangesh', 'mangesh', 'mangesh', 'mangesh', 'mangesh', 'mangesh', 'mangesh', 'mangesh', 'mangesh', 'mangesh', 'mangesh', 'mangesh', 'mangesh', 'mangesh', 'mangesh', 'mangesh', 'mangesh', 'mangesh', 'mangesh', 'mangesh', 'mangesh', 'mangesh', 'mangesh', 'mangesh', 'mangesh', 'mangesh', 'mangesh', 'mangesh', 'mangesh', 'mangesh', 'mangesh', 'mangesh', 'mangesh', 'mangesh')\n"
     ]
    }
   ],
   "source": [
    "c=[]\n",
    "for i in k.keys():\n",
    "    c.append(k[i])\n",
    "print(\"tuplelist:\" , tuple(c))"
   ]
  },
  {
   "cell_type": "code",
   "execution_count": 42,
   "id": "0d18d281",
   "metadata": {},
   "outputs": [
    {
     "data": {
      "text/plain": [
       "['mangesh',\n",
       " 'mangesh',\n",
       " 'mangesh',\n",
       " 'mangesh',\n",
       " 'mangesh',\n",
       " 'mangesh',\n",
       " 'mangesh',\n",
       " 'mangesh',\n",
       " 'mangesh',\n",
       " 'mangesh',\n",
       " 'mangesh',\n",
       " 'mangesh',\n",
       " 'mangesh',\n",
       " 'mangesh',\n",
       " 'mangesh',\n",
       " 'mangesh',\n",
       " 'mangesh',\n",
       " 'mangesh',\n",
       " 'mangesh',\n",
       " 'mangesh',\n",
       " 'mangesh',\n",
       " 'mangesh',\n",
       " 'mangesh',\n",
       " 'mangesh',\n",
       " 'mangesh',\n",
       " 'mangesh',\n",
       " 'mangesh',\n",
       " 'mangesh',\n",
       " 'mangesh',\n",
       " 'mangesh',\n",
       " 'mangesh',\n",
       " 'mangesh',\n",
       " 'mangesh',\n",
       " 'mangesh',\n",
       " 'mangesh',\n",
       " 'mangesh',\n",
       " 'mangesh',\n",
       " 'mangesh',\n",
       " 'mangesh',\n",
       " 'mangesh',\n",
       " 'mangesh',\n",
       " 'mangesh',\n",
       " 'mangesh',\n",
       " 'mangesh',\n",
       " 'mangesh',\n",
       " 'mangesh',\n",
       " 'mangesh',\n",
       " 'mangesh',\n",
       " 'mangesh',\n",
       " 'mangesh',\n",
       " 'mangesh',\n",
       " 'mangesh',\n",
       " 'mangesh',\n",
       " 'mangesh',\n",
       " 'mangesh',\n",
       " 'mangesh',\n",
       " 'mangesh',\n",
       " 'mangesh',\n",
       " 'mangesh',\n",
       " 'mangesh',\n",
       " 'mangesh',\n",
       " 'mangesh',\n",
       " 'mangesh',\n",
       " 'mangesh',\n",
       " 'mangesh',\n",
       " 'mangesh',\n",
       " 'mangesh']"
      ]
     },
     "execution_count": 42,
     "metadata": {},
     "output_type": "execute_result"
    }
   ],
   "source": [
    "c"
   ]
  },
  {
   "cell_type": "code",
   "execution_count": 51,
   "id": "20ef2b95",
   "metadata": {},
   "outputs": [
    {
     "name": "stdout",
     "output_type": "stream",
     "text": [
      "paragraph\n",
      "  @media print {\n",
      "    .ms-editor-squiggles-container {\n",
      "      display:none !important;\n",
      "    }\n",
      "  }\n",
      "  .ms-editor-squiggles-container {\n",
      "    all: initial;\n",
      "  }India, officially the Republic of India (Hindi: Bhārat Gaṇarājya),[26] is a country in South Asia. It is the seventh-largest country by area, the second-most populous country, and the most populous democracy in the world. Bounded by the Indian Ocean on the south, the Arabian Sea on the southwest, and the Bay of Bengal on the southeast, it shares land borders with Pakistan to the west;[f] China, Nepal, and Bhutan to the north; and Bangladesh and Myanmar to the east. In the Indian Ocean, India is in the vicinity of Sri Lanka and the Maldives; its Andaman and Nicobar Islands share a maritime border with Thailand, Myanmar and Indonesia.\n"
     ]
    }
   ],
   "source": [
    "para= input(\"paragraph\")"
   ]
  },
  {
   "cell_type": "code",
   "execution_count": 53,
   "id": "7f3e0036",
   "metadata": {},
   "outputs": [],
   "source": [
    "st=para.split(\" \")"
   ]
  },
  {
   "cell_type": "code",
   "execution_count": 54,
   "id": "3d58f548",
   "metadata": {},
   "outputs": [],
   "source": [
    "s1=set(st)"
   ]
  },
  {
   "cell_type": "code",
   "execution_count": 55,
   "id": "b58e7b70",
   "metadata": {},
   "outputs": [],
   "source": [
    "di=dict.fromkeys(s1,\"mangesh\")"
   ]
  },
  {
   "cell_type": "code",
   "execution_count": 58,
   "id": "441db0a7",
   "metadata": {},
   "outputs": [],
   "source": [
    "tu=tuple(di.keys())"
   ]
  },
  {
   "cell_type": "code",
   "execution_count": 60,
   "id": "49aa55ce",
   "metadata": {},
   "outputs": [],
   "source": [
    "l= list(di.values())"
   ]
  },
  {
   "cell_type": "code",
   "execution_count": 61,
   "id": "9a55bfd3",
   "metadata": {},
   "outputs": [
    {
     "data": {
      "text/plain": [
       "['mangesh',\n",
       " 'mangesh',\n",
       " 'mangesh',\n",
       " 'mangesh',\n",
       " 'mangesh',\n",
       " 'mangesh',\n",
       " 'mangesh',\n",
       " 'mangesh',\n",
       " 'mangesh',\n",
       " 'mangesh',\n",
       " 'mangesh',\n",
       " 'mangesh',\n",
       " 'mangesh',\n",
       " 'mangesh',\n",
       " 'mangesh',\n",
       " 'mangesh',\n",
       " 'mangesh',\n",
       " 'mangesh',\n",
       " 'mangesh',\n",
       " 'mangesh',\n",
       " 'mangesh',\n",
       " 'mangesh',\n",
       " 'mangesh',\n",
       " 'mangesh',\n",
       " 'mangesh',\n",
       " 'mangesh',\n",
       " 'mangesh',\n",
       " 'mangesh',\n",
       " 'mangesh',\n",
       " 'mangesh',\n",
       " 'mangesh',\n",
       " 'mangesh',\n",
       " 'mangesh',\n",
       " 'mangesh',\n",
       " 'mangesh',\n",
       " 'mangesh',\n",
       " 'mangesh',\n",
       " 'mangesh',\n",
       " 'mangesh',\n",
       " 'mangesh',\n",
       " 'mangesh',\n",
       " 'mangesh',\n",
       " 'mangesh',\n",
       " 'mangesh',\n",
       " 'mangesh',\n",
       " 'mangesh',\n",
       " 'mangesh',\n",
       " 'mangesh',\n",
       " 'mangesh',\n",
       " 'mangesh',\n",
       " 'mangesh',\n",
       " 'mangesh',\n",
       " 'mangesh',\n",
       " 'mangesh',\n",
       " 'mangesh',\n",
       " 'mangesh',\n",
       " 'mangesh',\n",
       " 'mangesh',\n",
       " 'mangesh',\n",
       " 'mangesh',\n",
       " 'mangesh',\n",
       " 'mangesh',\n",
       " 'mangesh',\n",
       " 'mangesh',\n",
       " 'mangesh',\n",
       " 'mangesh',\n",
       " 'mangesh']"
      ]
     },
     "execution_count": 61,
     "metadata": {},
     "output_type": "execute_result"
    }
   ],
   "source": [
    "l"
   ]
  },
  {
   "cell_type": "code",
   "execution_count": 65,
   "id": "496702bd",
   "metadata": {},
   "outputs": [],
   "source": [
    "t=([1,2,3,4],\"mangesh\" ,45,(1,2,3,5))"
   ]
  },
  {
   "cell_type": "code",
   "execution_count": 92,
   "id": "d1eb6fa3",
   "metadata": {},
   "outputs": [
    {
     "ename": "SyntaxError",
     "evalue": "invalid syntax (Temp/ipykernel_12672/658714136.py, line 2)",
     "output_type": "error",
     "traceback": [
      "\u001b[1;36m  File \u001b[1;32m\"C:\\Users\\Mangesh\\AppData\\Local\\Temp/ipykernel_12672/658714136.py\"\u001b[1;36m, line \u001b[1;32m2\u001b[0m\n\u001b[1;33m    print(i{1})\u001b[0m\n\u001b[1;37m           ^\u001b[0m\n\u001b[1;31mSyntaxError\u001b[0m\u001b[1;31m:\u001b[0m invalid syntax\n"
     ]
    }
   ],
   "source": [
    "for i in range(len(t)):\n",
    "            if "
   ]
  },
  {
   "cell_type": "code",
   "execution_count": 93,
   "id": "e2c22eaf",
   "metadata": {},
   "outputs": [],
   "source": [
    "t=(1,2,3,4,5,8)"
   ]
  },
  {
   "cell_type": "code",
   "execution_count": 96,
   "id": "c2bcea53",
   "metadata": {},
   "outputs": [
    {
     "data": {
      "text/plain": [
       "8"
      ]
     },
     "execution_count": 96,
     "metadata": {},
     "output_type": "execute_result"
    }
   ],
   "source": [
    "t[5]"
   ]
  },
  {
   "cell_type": "code",
   "execution_count": 97,
   "id": "8e961a3f",
   "metadata": {},
   "outputs": [],
   "source": [
    "l=[1,2,3,4,\"sudh\",\"kumar\",45.56]"
   ]
  },
  {
   "cell_type": "code",
   "execution_count": 101,
   "id": "f96942d0",
   "metadata": {},
   "outputs": [
    {
     "name": "stdout",
     "output_type": "stream",
     "text": [
      "0\n",
      "1\n",
      "2\n",
      "3\n"
     ]
    }
   ],
   "source": [
    "s=\"sudh\"\n",
    "for i in range(len(s)):\n",
    "    print(i)"
   ]
  },
  {
   "cell_type": "code",
   "execution_count": 102,
   "id": "96de9cd3",
   "metadata": {},
   "outputs": [
    {
     "name": "stdout",
     "output_type": "stream",
     "text": [
      "1\n",
      "2\n",
      "3\n",
      "4\n",
      "sudh\n",
      "kumar\n",
      "45.56\n",
      "if for loop is going to complete itself then it will execute else\n"
     ]
    }
   ],
   "source": [
    "for i in l:\n",
    "    print(i)\n",
    "else:\n",
    "    print(\"if for loop is going to complete itself then it will execute else\")"
   ]
  },
  {
   "cell_type": "code",
   "execution_count": 106,
   "id": "8735e55d",
   "metadata": {},
   "outputs": [
    {
     "name": "stdout",
     "output_type": "stream",
     "text": [
      "1\n",
      "2\n",
      "3\n"
     ]
    }
   ],
   "source": [
    "for i in l:\n",
    "    if i==4:\n",
    "        break\n",
    "    print(i)\n",
    "else:\n",
    "    print(\"thiskljasljjshkfd\")"
   ]
  },
  {
   "cell_type": "code",
   "execution_count": 107,
   "id": "73c25621",
   "metadata": {},
   "outputs": [
    {
     "name": "stdout",
     "output_type": "stream",
     "text": [
      "m\n",
      "a\n",
      "n\n",
      "g\n",
      "e\n"
     ]
    }
   ],
   "source": [
    "s=\"mangesh\"\n",
    "for i in s:\n",
    "    if i == \"s\":\n",
    "        break\n",
    "    print(i)\n",
    "else:\n",
    "    print(\"print string\",s)"
   ]
  },
  {
   "cell_type": "code",
   "execution_count": 110,
   "id": "51fca7ba",
   "metadata": {},
   "outputs": [
    {
     "name": "stdout",
     "output_type": "stream",
     "text": [
      "m\n",
      "a\n",
      "n\n",
      "g\n",
      "e\n",
      "s\n",
      "h\n",
      "print string mangesh\n"
     ]
    }
   ],
   "source": [
    "s=\"mangesh\"\n",
    "for i in s:\n",
    "    print(i)\n",
    "else:\n",
    "    print(\"print string\",s)"
   ]
  },
  {
   "cell_type": "code",
   "execution_count": 111,
   "id": "dcde2d0e",
   "metadata": {},
   "outputs": [
    {
     "name": "stdout",
     "output_type": "stream",
     "text": [
      "m\n",
      "a\n",
      "n\n",
      "g\n",
      "e\n",
      "s\n",
      "h\n",
      "print string mangesh\n"
     ]
    }
   ],
   "source": [
    "s=\"mangesh\"\n",
    "for i in s:\n",
    "    if i == \"k\":\n",
    "        break\n",
    "    print(i)\n",
    "else:\n",
    "    print(\"print string\",s)"
   ]
  },
  {
   "cell_type": "code",
   "execution_count": 112,
   "id": "afe1b693",
   "metadata": {},
   "outputs": [],
   "source": [
    "t=(4,5,6,7,8,6,\"mangesh\")"
   ]
  },
  {
   "cell_type": "code",
   "execution_count": 115,
   "id": "4e85ac88",
   "metadata": {},
   "outputs": [
    {
     "name": "stdout",
     "output_type": "stream",
     "text": [
      "4\n",
      "5\n",
      "6\n",
      "7\n",
      "8\n",
      "6\n",
      "mangesh\n"
     ]
    }
   ],
   "source": [
    "for i in t:\n",
    "    print(i)"
   ]
  },
  {
   "cell_type": "code",
   "execution_count": 116,
   "id": "409e91fd",
   "metadata": {},
   "outputs": [],
   "source": [
    "b={4,5,6,7,7,7,7,7,7,8,8,\"sudh\"}"
   ]
  },
  {
   "cell_type": "code",
   "execution_count": 117,
   "id": "94c12073",
   "metadata": {},
   "outputs": [
    {
     "data": {
      "text/plain": [
       "{4, 5, 6, 7, 8, 'sudh'}"
      ]
     },
     "execution_count": 117,
     "metadata": {},
     "output_type": "execute_result"
    }
   ],
   "source": [
    "b"
   ]
  },
  {
   "cell_type": "code",
   "execution_count": 120,
   "id": "6a099708",
   "metadata": {},
   "outputs": [
    {
     "name": "stdout",
     "output_type": "stream",
     "text": [
      "4\n",
      "5\n",
      "6\n",
      "7\n",
      "8\n",
      "sudh\n"
     ]
    }
   ],
   "source": [
    "for i in  b:\n",
    "    print(i)"
   ]
  },
  {
   "cell_type": "code",
   "execution_count": 121,
   "id": "6c268baf",
   "metadata": {},
   "outputs": [],
   "source": [
    "d={\"key1\":\"sudh\",'contact':9423109857,\"position\":\"xyz\"}"
   ]
  },
  {
   "cell_type": "code",
   "execution_count": 131,
   "id": "41e62265",
   "metadata": {},
   "outputs": [
    {
     "name": "stdout",
     "output_type": "stream",
     "text": [
      "key1 : sudh\n",
      "contact : 9423109857\n",
      "position : xyz\n"
     ]
    }
   ],
   "source": [
    "for i in d:\n",
    "    print(i,\":\",d[i])"
   ]
  },
  {
   "cell_type": "code",
   "execution_count": 123,
   "id": "3718a5f9",
   "metadata": {},
   "outputs": [
    {
     "data": {
      "text/plain": [
       "'sudh'"
      ]
     },
     "execution_count": 123,
     "metadata": {},
     "output_type": "execute_result"
    }
   ],
   "source": [
    "d[\"key1\"]"
   ]
  },
  {
   "cell_type": "code",
   "execution_count": 132,
   "id": "0d08e73d",
   "metadata": {},
   "outputs": [],
   "source": [
    "s=\"sudh\""
   ]
  },
  {
   "cell_type": "code",
   "execution_count": 133,
   "id": "f23f55a4",
   "metadata": {},
   "outputs": [
    {
     "data": {
      "text/plain": [
       "(0, 1, 2, 3, 4, 5, 6, 7, 8)"
      ]
     },
     "execution_count": 133,
     "metadata": {},
     "output_type": "execute_result"
    }
   ],
   "source": [
    "tuple(range(9))"
   ]
  },
  {
   "cell_type": "code",
   "execution_count": 136,
   "id": "ffb0b1a2",
   "metadata": {},
   "outputs": [
    {
     "name": "stdout",
     "output_type": "stream",
     "text": [
      "0\n",
      "1\n",
      "2\n",
      "3\n"
     ]
    }
   ],
   "source": [
    "for i in range(len(s)):\n",
    "    print(i)"
   ]
  },
  {
   "cell_type": "code",
   "execution_count": 139,
   "id": "20161bf9",
   "metadata": {},
   "outputs": [
    {
     "name": "stdout",
     "output_type": "stream",
     "text": [
      " sudh\n",
      "\n",
      " sudh sudh\n",
      "\n",
      " sudh sudh sudh\n",
      "\n",
      " sudh sudh sudh sudh\n",
      "\n"
     ]
    }
   ],
   "source": [
    "n=4\n",
    "for i in range(4):\n",
    "    for j in range(0,i+1):\n",
    "        print(\" \", end=\"sudh\")\n",
    "    print(\"\\n\")"
   ]
  },
  {
   "cell_type": "code",
   "execution_count": 140,
   "id": "e13c8fd6",
   "metadata": {},
   "outputs": [
    {
     "ename": "SyntaxError",
     "evalue": "invalid syntax (Temp/ipykernel_12672/1507616693.py, line 3)",
     "output_type": "error",
     "traceback": [
      "\u001b[1;36m  File \u001b[1;32m\"C:\\Users\\Mangesh\\AppData\\Local\\Temp/ipykernel_12672/1507616693.py\"\u001b[1;36m, line \u001b[1;32m3\u001b[0m\n\u001b[1;33m    for j in range(0,2i-1):\u001b[0m\n\u001b[1;37m                      ^\u001b[0m\n\u001b[1;31mSyntaxError\u001b[0m\u001b[1;31m:\u001b[0m invalid syntax\n"
     ]
    }
   ],
   "source": [
    "p=3\n",
    "for i in range(p+1):\n",
    "    for j in range(0,2i-1):\n",
    "        print(\" \", end=\"mangesh\")\n",
    "    print(\"\\n\")"
   ]
  },
  {
   "cell_type": "code",
   "execution_count": 142,
   "id": "18ae0fd1",
   "metadata": {},
   "outputs": [
    {
     "name": "stdout",
     "output_type": "stream",
     "text": [
      "0 3\n",
      "1 23\n",
      "2 45\n",
      "3 67\n",
      "4 2\n",
      "5 4\n",
      "6 5\n",
      "7 6\n"
     ]
    }
   ],
   "source": [
    "t=(3,23,45,67,2,4,5,6)\n",
    "for i in range(len(t)):\n",
    "    print(i,t[i])"
   ]
  },
  {
   "cell_type": "code",
   "execution_count": 164,
   "id": "628c5fd3",
   "metadata": {},
   "outputs": [
    {
     "name": "stdout",
     "output_type": "stream",
     "text": [
      "6 n\n",
      "5 o\n",
      "4 r\n",
      "3 u\n",
      "2 e\n",
      "1 n\n",
      "0 i\n"
     ]
    }
   ],
   "source": [
    "s=\"ineuron\"\n",
    "for i in range(len(s)-1,-1,-1):\n",
    "    print(i,s[i])"
   ]
  },
  {
   "cell_type": "code",
   "execution_count": 155,
   "id": "007f1241",
   "metadata": {},
   "outputs": [
    {
     "data": {
      "text/plain": [
       "'ineuron'"
      ]
     },
     "execution_count": 155,
     "metadata": {},
     "output_type": "execute_result"
    }
   ],
   "source": [
    "s"
   ]
  },
  {
   "cell_type": "code",
   "execution_count": 165,
   "id": "20453bac",
   "metadata": {},
   "outputs": [
    {
     "data": {
      "text/plain": [
       "{'key1': 'sudh', 'contact': 9423109857, 'position': 'xyz'}"
      ]
     },
     "execution_count": 165,
     "metadata": {},
     "output_type": "execute_result"
    }
   ],
   "source": [
    "d"
   ]
  },
  {
   "cell_type": "code",
   "execution_count": 169,
   "id": "63132b74",
   "metadata": {},
   "outputs": [
    {
     "name": "stdout",
     "output_type": "stream",
     "text": [
      "('key1', 'sudh') <class 'tuple'> <class 'str'>\n",
      "('contact', 9423109857) <class 'tuple'> <class 'int'>\n",
      "('position', 'xyz') <class 'tuple'> <class 'str'>\n"
     ]
    }
   ],
   "source": [
    " for i in d.items():\n",
    "        print(i, type(i),type(i[1]))"
   ]
  },
  {
   "cell_type": "code",
   "execution_count": 171,
   "id": "7053035f",
   "metadata": {},
   "outputs": [],
   "source": [
    "l=[\"sudh\",\"kumar\",35865153, \"mangesh\",54885,224584545]"
   ]
  },
  {
   "cell_type": "code",
   "execution_count": 174,
   "id": "867ec218",
   "metadata": {},
   "outputs": [
    {
     "name": "stdout",
     "output_type": "stream",
     "text": [
      "[35865153]\n",
      "[54885]\n",
      "[224584545]\n"
     ]
    }
   ],
   "source": [
    "for i in l:\n",
    "    if type(i) == int:\n",
    "        print([i])"
   ]
  },
  {
   "cell_type": "code",
   "execution_count": 176,
   "id": "5599ccb2",
   "metadata": {},
   "outputs": [],
   "source": [
    "l1=[]\n",
    "for i in l:\n",
    "    if type(i)== int:\n",
    "        l1.append(i)"
   ]
  },
  {
   "cell_type": "code",
   "execution_count": 177,
   "id": "2121b65d",
   "metadata": {},
   "outputs": [
    {
     "data": {
      "text/plain": [
       "[35865153, 54885, 224584545]"
      ]
     },
     "execution_count": 177,
     "metadata": {},
     "output_type": "execute_result"
    }
   ],
   "source": [
    "l1"
   ]
  },
  {
   "cell_type": "code",
   "execution_count": 178,
   "id": "1977a267",
   "metadata": {},
   "outputs": [],
   "source": [
    "d={1:33544565,\"name\":\"sudh\",\"email_id\":\"mangeshmjd@gmail.com\",2545:\"afefwf\",\"45\":\"+6qwdd\",234:\"2144\"}"
   ]
  },
  {
   "cell_type": "code",
   "execution_count": 182,
   "id": "d9df3922",
   "metadata": {},
   "outputs": [
    {
     "name": "stdout",
     "output_type": "stream",
     "text": [
      "1 : 33544565\n",
      "2545 : afefwf\n",
      "234 : 2144\n"
     ]
    }
   ],
   "source": [
    "for i in d:\n",
    "    if type(i)==int:\n",
    "        print(i,\":\",d[i])"
   ]
  },
  {
   "cell_type": "code",
   "execution_count": 3,
   "id": "e069d467",
   "metadata": {},
   "outputs": [
    {
     "name": "stdout",
     "output_type": "stream",
     "text": [
      "1 : d\n",
      "2 : b\n",
      "4 : a\n",
      "2 : c\n"
     ]
    }
   ],
   "source": [
    "s=\"aaaabbccd\"\n",
    "set(s)\n",
    "for i in set(s):\n",
    "    print(s.count(i),\":\",i)"
   ]
  },
  {
   "cell_type": "code",
   "execution_count": 10,
   "id": "750363b3",
   "metadata": {},
   "outputs": [
    {
     "name": "stdout",
     "output_type": "stream",
     "text": [
      "5 <class 'int'>\n",
      "4 <class 'int'>\n",
      "6 <class 'int'>\n",
      "6 <class 'int'>\n",
      "6 <class 'int'>\n",
      "5 <class 'int'>\n",
      "6 <class 'int'>\n",
      "5 <class 'int'>\n",
      "6 <class 'int'>\n"
     ]
    }
   ],
   "source": [
    "i=\"546665656\"\n",
    "for j in i:\n",
    "    print(int(j),type(int(j)))"
   ]
  },
  {
   "cell_type": "code",
   "execution_count": 21,
   "id": "ecb581b8",
   "metadata": {},
   "outputs": [],
   "source": [
    "t=(\"sudh\",\"kumar\",[1,2,3,4,5],(3,4,5,6),{3:3,\"key2\":\"kumar\"})"
   ]
  },
  {
   "cell_type": "code",
   "execution_count": 31,
   "id": "9c894e68",
   "metadata": {},
   "outputs": [
    {
     "name": "stdout",
     "output_type": "stream",
     "text": [
      "3\n",
      "3\n",
      "3\n",
      "3\n"
     ]
    }
   ],
   "source": [
    "for i in t:\n",
    "    if type(i) == list or type(i)== tuple:\n",
    "        for j in i:\n",
    "            if j==3:\n",
    "                print(j)\n",
    "    if type(i)== dict:\n",
    "        for k,v in i.items():\n",
    "            if k==3 or v==3:\n",
    "                 print(k)\n",
    "                 print(v)"
   ]
  },
  {
   "cell_type": "code",
   "execution_count": 33,
   "id": "c89a1b03",
   "metadata": {},
   "outputs": [
    {
     "name": "stdout",
     "output_type": "stream",
     "text": [
      "ineuron \n",
      "ineuron ineuron \n",
      "ineuron ineuron ineuron \n",
      "ineuron ineuron ineuron ineuron \n"
     ]
    }
   ],
   "source": [
    "#q1\n",
    "n=4\n",
    "for i in range(n):\n",
    "    for j in range(0,i+1):\n",
    "        print(\"ineuron\", end=\" \")\n",
    "    print()"
   ]
  },
  {
   "cell_type": "code",
   "execution_count": 74,
   "id": "8ac5a3ec",
   "metadata": {},
   "outputs": [
    {
     "name": "stdout",
     "output_type": "stream",
     "text": [
      "               ineuron \n",
      "            ineuron ineuron \n",
      "         ineuron ineuron ineuron \n",
      "      ineuron ineuron ineuron ineuron \n",
      "   ineuron ineuron ineuron ineuron ineuron \n",
      "          \n",
      "            \n"
     ]
    }
   ],
   "source": [
    "n=5\n",
    "for i in range(n):\n",
    "    for j in range(0,n-i):\n",
    "        print(\"  \",end=\" \")\n",
    "    for j in range(i+1):\n",
    "        print(\"ineuron\", end=\" \")\n",
    "    print()\n",
    "for i in range(n-i,-1,-1):\n",
    "    for j in range(n-i,-1,-1):\n",
    "        print(\" \", end=\" \")\n",
    "    \n",
    "    print()"
   ]
  },
  {
   "cell_type": "code",
   "execution_count": null,
   "id": "b058dd09",
   "metadata": {},
   "outputs": [],
   "source": []
  }
 ],
 "metadata": {
  "kernelspec": {
   "display_name": "Python 3 (ipykernel)",
   "language": "python",
   "name": "python3"
  },
  "language_info": {
   "codemirror_mode": {
    "name": "ipython",
    "version": 3
   },
   "file_extension": ".py",
   "mimetype": "text/x-python",
   "name": "python",
   "nbconvert_exporter": "python",
   "pygments_lexer": "ipython3",
   "version": "3.9.7"
  }
 },
 "nbformat": 4,
 "nbformat_minor": 5
}
